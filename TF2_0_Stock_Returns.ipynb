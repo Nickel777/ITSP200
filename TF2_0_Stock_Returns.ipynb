{
  "nbformat": 4,
  "nbformat_minor": 0,
  "metadata": {
    "colab": {
      "name": "TF2.0 Stock Returns.ipynb",
      "provenance": [],
      "collapsed_sections": [],
      "include_colab_link": true
    },
    "kernelspec": {
      "name": "python3",
      "display_name": "Python 3"
    }
  },
  "cells": [
    {
      "cell_type": "markdown",
      "metadata": {
        "id": "view-in-github",
        "colab_type": "text"
      },
      "source": [
        "<a href=\"https://colab.research.google.com/github/Nickel777/ITSP200/blob/master/TF2_0_Stock_Returns.ipynb\" target=\"_parent\"><img src=\"https://colab.research.google.com/assets/colab-badge.svg\" alt=\"Open In Colab\"/></a>"
      ]
    },
    {
      "cell_type": "code",
      "metadata": {
        "id": "JkljvqYBN0Fa",
        "colab": {
          "base_uri": "https://localhost:8080/"
        },
        "outputId": "c2ab4497-ee1e-447e-afa1-b3a1d39e0d00"
      },
      "source": [
        "# Install TensorFlow\n",
        "# !pip install -q tensorflow-gpu==2.0.0-beta1\n",
        "\n",
        "try:\n",
        "  %tensorflow_version 2.x  # Colab only.\n",
        "except Exception:\n",
        "  pass\n",
        "\n",
        "import tensorflow as tf\n",
        "print(tf.__version__)"
      ],
      "execution_count": 1,
      "outputs": [
        {
          "output_type": "stream",
          "text": [
            "`%tensorflow_version` only switches the major version: 1.x or 2.x.\n",
            "You set: `2.x  # Colab only.`. This will be interpreted as: `2.x`.\n",
            "\n",
            "\n",
            "TensorFlow 2.x selected.\n",
            "2.4.1\n"
          ],
          "name": "stdout"
        }
      ]
    },
    {
      "cell_type": "code",
      "metadata": {
        "id": "AJ1XDZAJNjNG"
      },
      "source": [
        "# More imports\n",
        "from tensorflow.keras.layers import Input, LSTM, GRU, SimpleRNN, Dense, GlobalMaxPool1D\n",
        "from tensorflow.keras.models import Model\n",
        "from tensorflow.keras.optimizers import SGD, Adam\n",
        "\n",
        "import numpy as np\n",
        "import pandas as pd\n",
        "import matplotlib.pyplot as plt\n",
        "from sklearn.preprocessing import StandardScaler"
      ],
      "execution_count": 2,
      "outputs": []
    },
    {
      "cell_type": "code",
      "metadata": {
        "id": "DhvsuKhcNq7t"
      },
      "source": [
        "# yes, you can read dataframes from URLs!\n",
        "df = pd.read_csv('https://raw.githubusercontent.com/lazyprogrammer/machine_learning_examples/master/tf2.0/sbux.csv')"
      ],
      "execution_count": 3,
      "outputs": []
    },
    {
      "cell_type": "code",
      "metadata": {
        "id": "vWSPFdncODH9",
        "colab": {
          "base_uri": "https://localhost:8080/",
          "height": 198
        },
        "outputId": "80d27541-81a6-4cd7-b18f-9728c373c433"
      },
      "source": [
        "df.head()"
      ],
      "execution_count": 4,
      "outputs": [
        {
          "output_type": "execute_result",
          "data": {
            "text/html": [
              "<div>\n",
              "<style scoped>\n",
              "    .dataframe tbody tr th:only-of-type {\n",
              "        vertical-align: middle;\n",
              "    }\n",
              "\n",
              "    .dataframe tbody tr th {\n",
              "        vertical-align: top;\n",
              "    }\n",
              "\n",
              "    .dataframe thead th {\n",
              "        text-align: right;\n",
              "    }\n",
              "</style>\n",
              "<table border=\"1\" class=\"dataframe\">\n",
              "  <thead>\n",
              "    <tr style=\"text-align: right;\">\n",
              "      <th></th>\n",
              "      <th>date</th>\n",
              "      <th>open</th>\n",
              "      <th>high</th>\n",
              "      <th>low</th>\n",
              "      <th>close</th>\n",
              "      <th>volume</th>\n",
              "      <th>Name</th>\n",
              "    </tr>\n",
              "  </thead>\n",
              "  <tbody>\n",
              "    <tr>\n",
              "      <th>0</th>\n",
              "      <td>2013-02-08</td>\n",
              "      <td>27.920</td>\n",
              "      <td>28.325</td>\n",
              "      <td>27.920</td>\n",
              "      <td>28.185</td>\n",
              "      <td>7146296</td>\n",
              "      <td>SBUX</td>\n",
              "    </tr>\n",
              "    <tr>\n",
              "      <th>1</th>\n",
              "      <td>2013-02-11</td>\n",
              "      <td>28.260</td>\n",
              "      <td>28.260</td>\n",
              "      <td>27.930</td>\n",
              "      <td>28.070</td>\n",
              "      <td>5457354</td>\n",
              "      <td>SBUX</td>\n",
              "    </tr>\n",
              "    <tr>\n",
              "      <th>2</th>\n",
              "      <td>2013-02-12</td>\n",
              "      <td>28.000</td>\n",
              "      <td>28.275</td>\n",
              "      <td>27.975</td>\n",
              "      <td>28.130</td>\n",
              "      <td>8665592</td>\n",
              "      <td>SBUX</td>\n",
              "    </tr>\n",
              "    <tr>\n",
              "      <th>3</th>\n",
              "      <td>2013-02-13</td>\n",
              "      <td>28.230</td>\n",
              "      <td>28.230</td>\n",
              "      <td>27.750</td>\n",
              "      <td>27.915</td>\n",
              "      <td>7022056</td>\n",
              "      <td>SBUX</td>\n",
              "    </tr>\n",
              "    <tr>\n",
              "      <th>4</th>\n",
              "      <td>2013-02-14</td>\n",
              "      <td>27.765</td>\n",
              "      <td>27.905</td>\n",
              "      <td>27.675</td>\n",
              "      <td>27.775</td>\n",
              "      <td>8899188</td>\n",
              "      <td>SBUX</td>\n",
              "    </tr>\n",
              "  </tbody>\n",
              "</table>\n",
              "</div>"
            ],
            "text/plain": [
              "         date    open    high     low   close   volume  Name\n",
              "0  2013-02-08  27.920  28.325  27.920  28.185  7146296  SBUX\n",
              "1  2013-02-11  28.260  28.260  27.930  28.070  5457354  SBUX\n",
              "2  2013-02-12  28.000  28.275  27.975  28.130  8665592  SBUX\n",
              "3  2013-02-13  28.230  28.230  27.750  27.915  7022056  SBUX\n",
              "4  2013-02-14  27.765  27.905  27.675  27.775  8899188  SBUX"
            ]
          },
          "metadata": {
            "tags": []
          },
          "execution_count": 4
        }
      ]
    },
    {
      "cell_type": "code",
      "metadata": {
        "id": "NLmweO2o-wgS",
        "colab": {
          "base_uri": "https://localhost:8080/",
          "height": 198
        },
        "outputId": "5b259d27-8efc-44b2-c529-54f7d4a903e1"
      },
      "source": [
        "df.tail()"
      ],
      "execution_count": 5,
      "outputs": [
        {
          "output_type": "execute_result",
          "data": {
            "text/html": [
              "<div>\n",
              "<style scoped>\n",
              "    .dataframe tbody tr th:only-of-type {\n",
              "        vertical-align: middle;\n",
              "    }\n",
              "\n",
              "    .dataframe tbody tr th {\n",
              "        vertical-align: top;\n",
              "    }\n",
              "\n",
              "    .dataframe thead th {\n",
              "        text-align: right;\n",
              "    }\n",
              "</style>\n",
              "<table border=\"1\" class=\"dataframe\">\n",
              "  <thead>\n",
              "    <tr style=\"text-align: right;\">\n",
              "      <th></th>\n",
              "      <th>date</th>\n",
              "      <th>open</th>\n",
              "      <th>high</th>\n",
              "      <th>low</th>\n",
              "      <th>close</th>\n",
              "      <th>volume</th>\n",
              "      <th>Name</th>\n",
              "    </tr>\n",
              "  </thead>\n",
              "  <tbody>\n",
              "    <tr>\n",
              "      <th>1254</th>\n",
              "      <td>2018-02-01</td>\n",
              "      <td>56.280</td>\n",
              "      <td>56.42</td>\n",
              "      <td>55.89</td>\n",
              "      <td>56.00</td>\n",
              "      <td>14690146</td>\n",
              "      <td>SBUX</td>\n",
              "    </tr>\n",
              "    <tr>\n",
              "      <th>1255</th>\n",
              "      <td>2018-02-02</td>\n",
              "      <td>55.900</td>\n",
              "      <td>56.32</td>\n",
              "      <td>55.70</td>\n",
              "      <td>55.77</td>\n",
              "      <td>15358909</td>\n",
              "      <td>SBUX</td>\n",
              "    </tr>\n",
              "    <tr>\n",
              "      <th>1256</th>\n",
              "      <td>2018-02-05</td>\n",
              "      <td>55.530</td>\n",
              "      <td>56.26</td>\n",
              "      <td>54.57</td>\n",
              "      <td>54.69</td>\n",
              "      <td>16059955</td>\n",
              "      <td>SBUX</td>\n",
              "    </tr>\n",
              "    <tr>\n",
              "      <th>1257</th>\n",
              "      <td>2018-02-06</td>\n",
              "      <td>53.685</td>\n",
              "      <td>56.06</td>\n",
              "      <td>53.56</td>\n",
              "      <td>55.61</td>\n",
              "      <td>17415065</td>\n",
              "      <td>SBUX</td>\n",
              "    </tr>\n",
              "    <tr>\n",
              "      <th>1258</th>\n",
              "      <td>2018-02-07</td>\n",
              "      <td>55.080</td>\n",
              "      <td>55.43</td>\n",
              "      <td>54.44</td>\n",
              "      <td>54.46</td>\n",
              "      <td>13927022</td>\n",
              "      <td>SBUX</td>\n",
              "    </tr>\n",
              "  </tbody>\n",
              "</table>\n",
              "</div>"
            ],
            "text/plain": [
              "            date    open   high    low  close    volume  Name\n",
              "1254  2018-02-01  56.280  56.42  55.89  56.00  14690146  SBUX\n",
              "1255  2018-02-02  55.900  56.32  55.70  55.77  15358909  SBUX\n",
              "1256  2018-02-05  55.530  56.26  54.57  54.69  16059955  SBUX\n",
              "1257  2018-02-06  53.685  56.06  53.56  55.61  17415065  SBUX\n",
              "1258  2018-02-07  55.080  55.43  54.44  54.46  13927022  SBUX"
            ]
          },
          "metadata": {
            "tags": []
          },
          "execution_count": 5
        }
      ]
    },
    {
      "cell_type": "code",
      "metadata": {
        "id": "qczc-TUNO0th"
      },
      "source": [
        "# Start by doing the WRONG thing - trying to predict the price itself\n",
        "series = df['close'].values.reshape(-1, 1)"
      ],
      "execution_count": 6,
      "outputs": []
    },
    {
      "cell_type": "code",
      "metadata": {
        "id": "X6lJwsOgPVaB"
      },
      "source": [
        "# Normalize the data\n",
        "# Note: I didn't think about where the true boundary is, this is just approx.\n",
        "scaler = StandardScaler()\n",
        "scaler.fit(series[:len(series) // 2])\n",
        "series = scaler.transform(series).flatten()"
      ],
      "execution_count": 7,
      "outputs": []
    },
    {
      "cell_type": "code",
      "metadata": {
        "id": "3j6Jk2pkPTjE",
        "colab": {
          "base_uri": "https://localhost:8080/"
        },
        "outputId": "0b282370-0c8f-4a36-844e-3228af42da80"
      },
      "source": [
        "### build the dataset\n",
        "# let's see if we can use T past values to predict the next value\n",
        "T = 10\n",
        "D = 1\n",
        "X = []\n",
        "Y = []\n",
        "for t in range(len(series) - T):\n",
        "  x = series[t:t+T]\n",
        "  X.append(x)\n",
        "  y = series[t+T]\n",
        "  Y.append(y)\n",
        "\n",
        "X = np.array(X).reshape(-1, T, 1) # Now the data should be N x T x D\n",
        "Y = np.array(Y)\n",
        "N = len(X)\n",
        "print(\"X.shape\", X.shape, \"Y.shape\", Y.shape)"
      ],
      "execution_count": 8,
      "outputs": [
        {
          "output_type": "stream",
          "text": [
            "X.shape (1249, 10, 1) Y.shape (1249,)\n"
          ],
          "name": "stdout"
        }
      ]
    },
    {
      "cell_type": "code",
      "metadata": {
        "id": "R5uMLXonPEnZ",
        "colab": {
          "base_uri": "https://localhost:8080/"
        },
        "outputId": "c36080a2-f6d7-48d3-fbd0-d240c95fde54"
      },
      "source": [
        "### try autoregressive RNN model\n",
        "i = Input(shape=(T, 1))\n",
        "x = LSTM(5)(i)\n",
        "x = Dense(1)(x)\n",
        "model = Model(i, x)\n",
        "model.compile(\n",
        "  loss='mse',\n",
        "  optimizer=Adam(lr=0.1),\n",
        ")\n",
        "\n",
        "# train the RNN\n",
        "r = model.fit(\n",
        "  X[:-N//2], Y[:-N//2],\n",
        "  epochs=80,\n",
        "  validation_data=(X[-N//2:], Y[-N//2:]),\n",
        ")"
      ],
      "execution_count": 9,
      "outputs": [
        {
          "output_type": "stream",
          "text": [
            "Epoch 1/80\n",
            "20/20 [==============================] - 3s 50ms/step - loss: 0.2218 - val_loss: 0.0428\n",
            "Epoch 2/80\n",
            "20/20 [==============================] - 0s 9ms/step - loss: 0.0120 - val_loss: 0.0365\n",
            "Epoch 3/80\n",
            "20/20 [==============================] - 0s 9ms/step - loss: 0.0068 - val_loss: 0.0382\n",
            "Epoch 4/80\n",
            "20/20 [==============================] - 0s 10ms/step - loss: 0.0084 - val_loss: 0.0494\n",
            "Epoch 5/80\n",
            "20/20 [==============================] - 0s 10ms/step - loss: 0.0084 - val_loss: 0.0405\n",
            "Epoch 6/80\n",
            "20/20 [==============================] - 0s 9ms/step - loss: 0.0073 - val_loss: 0.0223\n",
            "Epoch 7/80\n",
            "20/20 [==============================] - 0s 8ms/step - loss: 0.0062 - val_loss: 0.0305\n",
            "Epoch 8/80\n",
            "20/20 [==============================] - 0s 8ms/step - loss: 0.0049 - val_loss: 0.0219\n",
            "Epoch 9/80\n",
            "20/20 [==============================] - 0s 8ms/step - loss: 0.0069 - val_loss: 0.0197\n",
            "Epoch 10/80\n",
            "20/20 [==============================] - 0s 8ms/step - loss: 0.0070 - val_loss: 0.0414\n",
            "Epoch 11/80\n",
            "20/20 [==============================] - 0s 8ms/step - loss: 0.0067 - val_loss: 0.0311\n",
            "Epoch 12/80\n",
            "20/20 [==============================] - 0s 8ms/step - loss: 0.0076 - val_loss: 0.0256\n",
            "Epoch 13/80\n",
            "20/20 [==============================] - 0s 8ms/step - loss: 0.0092 - val_loss: 0.0274\n",
            "Epoch 14/80\n",
            "20/20 [==============================] - 0s 8ms/step - loss: 0.0074 - val_loss: 0.0204\n",
            "Epoch 15/80\n",
            "20/20 [==============================] - 0s 8ms/step - loss: 0.0057 - val_loss: 0.0206\n",
            "Epoch 16/80\n",
            "20/20 [==============================] - 0s 9ms/step - loss: 0.0051 - val_loss: 0.0211\n",
            "Epoch 17/80\n",
            "20/20 [==============================] - 0s 8ms/step - loss: 0.0050 - val_loss: 0.0157\n",
            "Epoch 18/80\n",
            "20/20 [==============================] - 0s 8ms/step - loss: 0.0061 - val_loss: 0.0316\n",
            "Epoch 19/80\n",
            "20/20 [==============================] - 0s 8ms/step - loss: 0.0057 - val_loss: 0.0192\n",
            "Epoch 20/80\n",
            "20/20 [==============================] - 0s 8ms/step - loss: 0.0050 - val_loss: 0.0256\n",
            "Epoch 21/80\n",
            "20/20 [==============================] - 0s 7ms/step - loss: 0.0045 - val_loss: 0.0332\n",
            "Epoch 22/80\n",
            "20/20 [==============================] - 0s 8ms/step - loss: 0.0053 - val_loss: 0.0254\n",
            "Epoch 23/80\n",
            "20/20 [==============================] - 0s 8ms/step - loss: 0.0063 - val_loss: 0.0213\n",
            "Epoch 24/80\n",
            "20/20 [==============================] - 0s 8ms/step - loss: 0.0053 - val_loss: 0.0190\n",
            "Epoch 25/80\n",
            "20/20 [==============================] - 0s 8ms/step - loss: 0.0073 - val_loss: 0.0405\n",
            "Epoch 26/80\n",
            "20/20 [==============================] - 0s 9ms/step - loss: 0.0082 - val_loss: 0.0204\n",
            "Epoch 27/80\n",
            "20/20 [==============================] - 0s 8ms/step - loss: 0.0075 - val_loss: 0.0228\n",
            "Epoch 28/80\n",
            "20/20 [==============================] - 0s 8ms/step - loss: 0.0053 - val_loss: 0.0202\n",
            "Epoch 29/80\n",
            "20/20 [==============================] - 0s 8ms/step - loss: 0.0078 - val_loss: 0.0760\n",
            "Epoch 30/80\n",
            "20/20 [==============================] - 0s 8ms/step - loss: 0.0094 - val_loss: 0.0235\n",
            "Epoch 31/80\n",
            "20/20 [==============================] - 0s 9ms/step - loss: 0.0072 - val_loss: 0.0587\n",
            "Epoch 32/80\n",
            "20/20 [==============================] - 0s 8ms/step - loss: 0.0069 - val_loss: 0.0502\n",
            "Epoch 33/80\n",
            "20/20 [==============================] - 0s 8ms/step - loss: 0.0056 - val_loss: 0.0270\n",
            "Epoch 34/80\n",
            "20/20 [==============================] - 0s 8ms/step - loss: 0.0088 - val_loss: 0.0472\n",
            "Epoch 35/80\n",
            "20/20 [==============================] - 0s 8ms/step - loss: 0.0074 - val_loss: 0.0240\n",
            "Epoch 36/80\n",
            "20/20 [==============================] - 0s 7ms/step - loss: 0.0062 - val_loss: 0.0184\n",
            "Epoch 37/80\n",
            "20/20 [==============================] - 0s 8ms/step - loss: 0.0057 - val_loss: 0.0329\n",
            "Epoch 38/80\n",
            "20/20 [==============================] - 0s 7ms/step - loss: 0.0052 - val_loss: 0.0192\n",
            "Epoch 39/80\n",
            "20/20 [==============================] - 0s 8ms/step - loss: 0.0071 - val_loss: 0.0235\n",
            "Epoch 40/80\n",
            "20/20 [==============================] - 0s 8ms/step - loss: 0.0056 - val_loss: 0.0300\n",
            "Epoch 41/80\n",
            "20/20 [==============================] - 0s 8ms/step - loss: 0.0071 - val_loss: 0.0322\n",
            "Epoch 42/80\n",
            "20/20 [==============================] - 0s 8ms/step - loss: 0.0067 - val_loss: 0.0178\n",
            "Epoch 43/80\n",
            "20/20 [==============================] - 0s 8ms/step - loss: 0.0049 - val_loss: 0.0212\n",
            "Epoch 44/80\n",
            "20/20 [==============================] - 0s 8ms/step - loss: 0.0067 - val_loss: 0.0487\n",
            "Epoch 45/80\n",
            "20/20 [==============================] - 0s 8ms/step - loss: 0.0093 - val_loss: 0.0229\n",
            "Epoch 46/80\n",
            "20/20 [==============================] - 0s 8ms/step - loss: 0.0054 - val_loss: 0.0223\n",
            "Epoch 47/80\n",
            "20/20 [==============================] - 0s 9ms/step - loss: 0.0053 - val_loss: 0.0593\n",
            "Epoch 48/80\n",
            "20/20 [==============================] - 0s 9ms/step - loss: 0.0080 - val_loss: 0.0229\n",
            "Epoch 49/80\n",
            "20/20 [==============================] - 0s 8ms/step - loss: 0.0071 - val_loss: 0.0266\n",
            "Epoch 50/80\n",
            "20/20 [==============================] - 0s 9ms/step - loss: 0.0050 - val_loss: 0.0247\n",
            "Epoch 51/80\n",
            "20/20 [==============================] - 0s 10ms/step - loss: 0.0051 - val_loss: 0.0250\n",
            "Epoch 52/80\n",
            "20/20 [==============================] - 0s 8ms/step - loss: 0.0062 - val_loss: 0.0269\n",
            "Epoch 53/80\n",
            "20/20 [==============================] - 0s 8ms/step - loss: 0.0059 - val_loss: 0.0219\n",
            "Epoch 54/80\n",
            "20/20 [==============================] - 0s 9ms/step - loss: 0.0068 - val_loss: 0.0201\n",
            "Epoch 55/80\n",
            "20/20 [==============================] - 0s 8ms/step - loss: 0.0054 - val_loss: 0.0266\n",
            "Epoch 56/80\n",
            "20/20 [==============================] - 0s 8ms/step - loss: 0.0042 - val_loss: 0.0250\n",
            "Epoch 57/80\n",
            "20/20 [==============================] - 0s 8ms/step - loss: 0.0073 - val_loss: 0.0293\n",
            "Epoch 58/80\n",
            "20/20 [==============================] - 0s 8ms/step - loss: 0.0063 - val_loss: 0.0347\n",
            "Epoch 59/80\n",
            "20/20 [==============================] - 0s 9ms/step - loss: 0.0056 - val_loss: 0.0518\n",
            "Epoch 60/80\n",
            "20/20 [==============================] - 0s 8ms/step - loss: 0.0079 - val_loss: 0.0200\n",
            "Epoch 61/80\n",
            "20/20 [==============================] - 0s 8ms/step - loss: 0.0060 - val_loss: 0.0342\n",
            "Epoch 62/80\n",
            "20/20 [==============================] - 0s 8ms/step - loss: 0.0071 - val_loss: 0.0322\n",
            "Epoch 63/80\n",
            "20/20 [==============================] - 0s 8ms/step - loss: 0.0068 - val_loss: 0.0583\n",
            "Epoch 64/80\n",
            "20/20 [==============================] - 0s 8ms/step - loss: 0.0074 - val_loss: 0.0206\n",
            "Epoch 65/80\n",
            "20/20 [==============================] - 0s 8ms/step - loss: 0.0054 - val_loss: 0.0248\n",
            "Epoch 66/80\n",
            "20/20 [==============================] - 0s 9ms/step - loss: 0.0048 - val_loss: 0.0213\n",
            "Epoch 67/80\n",
            "20/20 [==============================] - 0s 8ms/step - loss: 0.0059 - val_loss: 0.0269\n",
            "Epoch 68/80\n",
            "20/20 [==============================] - 0s 8ms/step - loss: 0.0056 - val_loss: 0.0627\n",
            "Epoch 69/80\n",
            "20/20 [==============================] - 0s 8ms/step - loss: 0.0091 - val_loss: 0.0228\n",
            "Epoch 70/80\n",
            "20/20 [==============================] - 0s 8ms/step - loss: 0.0057 - val_loss: 0.0297\n",
            "Epoch 71/80\n",
            "20/20 [==============================] - 0s 8ms/step - loss: 0.0050 - val_loss: 0.0225\n",
            "Epoch 72/80\n",
            "20/20 [==============================] - 0s 8ms/step - loss: 0.0052 - val_loss: 0.0191\n",
            "Epoch 73/80\n",
            "20/20 [==============================] - 0s 8ms/step - loss: 0.0059 - val_loss: 0.0194\n",
            "Epoch 74/80\n",
            "20/20 [==============================] - 0s 8ms/step - loss: 0.0052 - val_loss: 0.0199\n",
            "Epoch 75/80\n",
            "20/20 [==============================] - 0s 8ms/step - loss: 0.0053 - val_loss: 0.0175\n",
            "Epoch 76/80\n",
            "20/20 [==============================] - 0s 8ms/step - loss: 0.0051 - val_loss: 0.0406\n",
            "Epoch 77/80\n",
            "20/20 [==============================] - 0s 9ms/step - loss: 0.0064 - val_loss: 0.0163\n",
            "Epoch 78/80\n",
            "20/20 [==============================] - 0s 8ms/step - loss: 0.0043 - val_loss: 0.0157\n",
            "Epoch 79/80\n",
            "20/20 [==============================] - 0s 8ms/step - loss: 0.0063 - val_loss: 0.0443\n",
            "Epoch 80/80\n",
            "20/20 [==============================] - 0s 8ms/step - loss: 0.0074 - val_loss: 0.0271\n"
          ],
          "name": "stdout"
        }
      ]
    },
    {
      "cell_type": "code",
      "metadata": {
        "id": "gNKGakDwP6I8",
        "colab": {
          "base_uri": "https://localhost:8080/",
          "height": 283
        },
        "outputId": "1315020a-524a-4610-b14d-924363ce93f4"
      },
      "source": [
        "# Plot loss per iteration\n",
        "import matplotlib.pyplot as plt\n",
        "plt.plot(r.history['loss'], label='loss')\n",
        "plt.plot(r.history['val_loss'], label='val_loss')\n",
        "plt.legend()"
      ],
      "execution_count": 10,
      "outputs": [
        {
          "output_type": "execute_result",
          "data": {
            "text/plain": [
              "<matplotlib.legend.Legend at 0x7f1f7ae5e890>"
            ]
          },
          "metadata": {
            "tags": []
          },
          "execution_count": 10
        },
        {
          "output_type": "display_data",
          "data": {
            "image/png": "[encoded data removed]",
            "text/plain": [
              "<Figure size 432x288 with 1 Axes>"
            ]
          },
          "metadata": {
            "tags": [],
            "needs_background": "light"
          }
        }
      ]
    },
    {
      "cell_type": "code",
      "metadata": {
        "id": "SnonG_CKP-W2",
        "colab": {
          "base_uri": "https://localhost:8080/",
          "height": 283
        },
        "outputId": "1baae2c1-727c-41bd-8e08-d68c36fb57ae"
      },
      "source": [
        "# One-step forecast using true targets\n",
        "outputs = model.predict(X)\n",
        "print(outputs.shape)\n",
        "predictions = outputs[:,0]\n",
        "\n",
        "plt.plot(Y, label='targets')\n",
        "plt.plot(predictions, label='predictions')\n",
        "plt.legend()\n",
        "plt.show()"
      ],
      "execution_count": 11,
      "outputs": [
        {
          "output_type": "stream",
          "text": [
            "(1249, 1)\n"
          ],
          "name": "stdout"
        },
        {
          "output_type": "display_data",
          "data": {
            "image/png": "[encoded data removed]",
            "text/plain": [
              "<Figure size 432x288 with 1 Axes>"
            ]
          },
          "metadata": {
            "tags": [],
            "needs_background": "light"
          }
        }
      ]
    },
    {
      "cell_type": "code",
      "metadata": {
        "id": "_lQrWPlHQJw_",
        "colab": {
          "base_uri": "https://localhost:8080/",
          "height": 283
        },
        "outputId": "a6048522-c293-40ce-da14-d3fe6ccb293f"
      },
      "source": [
        "# Multi-step forecast\n",
        "validation_target = Y[-N//2:]\n",
        "validation_predictions = []\n",
        "\n",
        "# first validation input\n",
        "last_x = X[-N//2] # 1-D array of length T\n",
        "\n",
        "while len(validation_predictions) < len(validation_target):\n",
        "  p = model.predict(last_x.reshape(1, T, 1))[0,0] # 1x1 array -> scalar\n",
        "  \n",
        "  # update the predictions list\n",
        "  validation_predictions.append(p)\n",
        "  \n",
        "  # make the new input\n",
        "  last_x = np.roll(last_x, -1)\n",
        "  last_x[-1] = p\n",
        "\n",
        "plt.plot(validation_target, label='forecast target')\n",
        "plt.plot(validation_predictions, label='forecast prediction')\n",
        "plt.legend()"
      ],
      "execution_count": 12,
      "outputs": [
        {
          "output_type": "execute_result",
          "data": {
            "text/plain": [
              "<matplotlib.legend.Legend at 0x7f1f78f79e10>"
            ]
          },
          "metadata": {
            "tags": []
          },
          "execution_count": 12
        },
        {
          "output_type": "display_data",
          "data": {
            "image/png": "[encoded data removed]",
            "text/plain": [
              "<Figure size 432x288 with 1 Axes>"
            ]
          },
          "metadata": {
            "tags": [],
            "needs_background": "light"
          }
        }
      ]
    },
    {
      "cell_type": "code",
      "metadata": {
        "id": "HyqtntC7OGu0"
      },
      "source": [
        "# calculate returns by first shifting the data\n",
        "df['PrevClose'] = df['close'].shift(1) # move everything up 1\n",
        "\n",
        "# so now it's like\n",
        "# close / prev close\n",
        "# x[2] x[1]\n",
        "# x[3] x[2]\n",
        "# x[4] x[3]\n",
        "# ...\n",
        "# x[t] x[t-1]"
      ],
      "execution_count": 13,
      "outputs": []
    },
    {
      "cell_type": "code",
      "metadata": {
        "id": "K4HG4nDUOPHK",
        "colab": {
          "base_uri": "https://localhost:8080/",
          "height": 198
        },
        "outputId": "7e4486bc-7463-44cf-b007-ad1c1b0cfee2"
      },
      "source": [
        "df.head()"
      ],
      "execution_count": 14,
      "outputs": [
        {
          "output_type": "execute_result",
          "data": {
            "text/html": [
              "<div>\n",
              "<style scoped>\n",
              "    .dataframe tbody tr th:only-of-type {\n",
              "        vertical-align: middle;\n",
              "    }\n",
              "\n",
              "    .dataframe tbody tr th {\n",
              "        vertical-align: top;\n",
              "    }\n",
              "\n",
              "    .dataframe thead th {\n",
              "        text-align: right;\n",
              "    }\n",
              "</style>\n",
              "<table border=\"1\" class=\"dataframe\">\n",
              "  <thead>\n",
              "    <tr style=\"text-align: right;\">\n",
              "      <th></th>\n",
              "      <th>date</th>\n",
              "      <th>open</th>\n",
              "      <th>high</th>\n",
              "      <th>low</th>\n",
              "      <th>close</th>\n",
              "      <th>volume</th>\n",
              "      <th>Name</th>\n",
              "      <th>PrevClose</th>\n",
              "    </tr>\n",
              "  </thead>\n",
              "  <tbody>\n",
              "    <tr>\n",
              "      <th>0</th>\n",
              "      <td>2013-02-08</td>\n",
              "      <td>27.920</td>\n",
              "      <td>28.325</td>\n",
              "      <td>27.920</td>\n",
              "      <td>28.185</td>\n",
              "      <td>7146296</td>\n",
              "      <td>SBUX</td>\n",
              "      <td>NaN</td>\n",
              "    </tr>\n",
              "    <tr>\n",
              "      <th>1</th>\n",
              "      <td>2013-02-11</td>\n",
              "      <td>28.260</td>\n",
              "      <td>28.260</td>\n",
              "      <td>27.930</td>\n",
              "      <td>28.070</td>\n",
              "      <td>5457354</td>\n",
              "      <td>SBUX</td>\n",
              "      <td>28.185</td>\n",
              "    </tr>\n",
              "    <tr>\n",
              "      <th>2</th>\n",
              "      <td>2013-02-12</td>\n",
              "      <td>28.000</td>\n",
              "      <td>28.275</td>\n",
              "      <td>27.975</td>\n",
              "      <td>28.130</td>\n",
              "      <td>8665592</td>\n",
              "      <td>SBUX</td>\n",
              "      <td>28.070</td>\n",
              "    </tr>\n",
              "    <tr>\n",
              "      <th>3</th>\n",
              "      <td>2013-02-13</td>\n",
              "      <td>28.230</td>\n",
              "      <td>28.230</td>\n",
              "      <td>27.750</td>\n",
              "      <td>27.915</td>\n",
              "      <td>7022056</td>\n",
              "      <td>SBUX</td>\n",
              "      <td>28.130</td>\n",
              "    </tr>\n",
              "    <tr>\n",
              "      <th>4</th>\n",
              "      <td>2013-02-14</td>\n",
              "      <td>27.765</td>\n",
              "      <td>27.905</td>\n",
              "      <td>27.675</td>\n",
              "      <td>27.775</td>\n",
              "      <td>8899188</td>\n",
              "      <td>SBUX</td>\n",
              "      <td>27.915</td>\n",
              "    </tr>\n",
              "  </tbody>\n",
              "</table>\n",
              "</div>"
            ],
            "text/plain": [
              "         date    open    high     low   close   volume  Name  PrevClose\n",
              "0  2013-02-08  27.920  28.325  27.920  28.185  7146296  SBUX        NaN\n",
              "1  2013-02-11  28.260  28.260  27.930  28.070  5457354  SBUX     28.185\n",
              "2  2013-02-12  28.000  28.275  27.975  28.130  8665592  SBUX     28.070\n",
              "3  2013-02-13  28.230  28.230  27.750  27.915  7022056  SBUX     28.130\n",
              "4  2013-02-14  27.765  27.905  27.675  27.775  8899188  SBUX     27.915"
            ]
          },
          "metadata": {
            "tags": []
          },
          "execution_count": 14
        }
      ]
    },
    {
      "cell_type": "code",
      "metadata": {
        "id": "8NozObuNORn4"
      },
      "source": [
        "# then the return is\n",
        "# (x[t] - x[t-1]) / x[t-1]\n",
        "df['Return'] = (df['close'] - df['PrevClose']) / df['PrevClose']"
      ],
      "execution_count": 15,
      "outputs": []
    },
    {
      "cell_type": "code",
      "metadata": {
        "id": "1o0ynO0aOVWu",
        "colab": {
          "base_uri": "https://localhost:8080/",
          "height": 198
        },
        "outputId": "1fe088b2-41c9-457d-b98a-24e4d1987acd"
      },
      "source": [
        "df.head()"
      ],
      "execution_count": 16,
      "outputs": [
        {
          "output_type": "execute_result",
          "data": {
            "text/html": [
              "<div>\n",
              "<style scoped>\n",
              "    .dataframe tbody tr th:only-of-type {\n",
              "        vertical-align: middle;\n",
              "    }\n",
              "\n",
              "    .dataframe tbody tr th {\n",
              "        vertical-align: top;\n",
              "    }\n",
              "\n",
              "    .dataframe thead th {\n",
              "        text-align: right;\n",
              "    }\n",
              "</style>\n",
              "<table border=\"1\" class=\"dataframe\">\n",
              "  <thead>\n",
              "    <tr style=\"text-align: right;\">\n",
              "      <th></th>\n",
              "      <th>date</th>\n",
              "      <th>open</th>\n",
              "      <th>high</th>\n",
              "      <th>low</th>\n",
              "      <th>close</th>\n",
              "      <th>volume</th>\n",
              "      <th>Name</th>\n",
              "      <th>PrevClose</th>\n",
              "      <th>Return</th>\n",
              "    </tr>\n",
              "  </thead>\n",
              "  <tbody>\n",
              "    <tr>\n",
              "      <th>0</th>\n",
              "      <td>2013-02-08</td>\n",
              "      <td>27.920</td>\n",
              "      <td>28.325</td>\n",
              "      <td>27.920</td>\n",
              "      <td>28.185</td>\n",
              "      <td>7146296</td>\n",
              "      <td>SBUX</td>\n",
              "      <td>NaN</td>\n",
              "      <td>NaN</td>\n",
              "    </tr>\n",
              "    <tr>\n",
              "      <th>1</th>\n",
              "      <td>2013-02-11</td>\n",
              "      <td>28.260</td>\n",
              "      <td>28.260</td>\n",
              "      <td>27.930</td>\n",
              "      <td>28.070</td>\n",
              "      <td>5457354</td>\n",
              "      <td>SBUX</td>\n",
              "      <td>28.185</td>\n",
              "      <td>-0.004080</td>\n",
              "    </tr>\n",
              "    <tr>\n",
              "      <th>2</th>\n",
              "      <td>2013-02-12</td>\n",
              "      <td>28.000</td>\n",
              "      <td>28.275</td>\n",
              "      <td>27.975</td>\n",
              "      <td>28.130</td>\n",
              "      <td>8665592</td>\n",
              "      <td>SBUX</td>\n",
              "      <td>28.070</td>\n",
              "      <td>0.002138</td>\n",
              "    </tr>\n",
              "    <tr>\n",
              "      <th>3</th>\n",
              "      <td>2013-02-13</td>\n",
              "      <td>28.230</td>\n",
              "      <td>28.230</td>\n",
              "      <td>27.750</td>\n",
              "      <td>27.915</td>\n",
              "      <td>7022056</td>\n",
              "      <td>SBUX</td>\n",
              "      <td>28.130</td>\n",
              "      <td>-0.007643</td>\n",
              "    </tr>\n",
              "    <tr>\n",
              "      <th>4</th>\n",
              "      <td>2013-02-14</td>\n",
              "      <td>27.765</td>\n",
              "      <td>27.905</td>\n",
              "      <td>27.675</td>\n",
              "      <td>27.775</td>\n",
              "      <td>8899188</td>\n",
              "      <td>SBUX</td>\n",
              "      <td>27.915</td>\n",
              "      <td>-0.005015</td>\n",
              "    </tr>\n",
              "  </tbody>\n",
              "</table>\n",
              "</div>"
            ],
            "text/plain": [
              "         date    open    high     low  ...   volume  Name PrevClose    Return\n",
              "0  2013-02-08  27.920  28.325  27.920  ...  7146296  SBUX       NaN       NaN\n",
              "1  2013-02-11  28.260  28.260  27.930  ...  5457354  SBUX    28.185 -0.004080\n",
              "2  2013-02-12  28.000  28.275  27.975  ...  8665592  SBUX    28.070  0.002138\n",
              "3  2013-02-13  28.230  28.230  27.750  ...  7022056  SBUX    28.130 -0.007643\n",
              "4  2013-02-14  27.765  27.905  27.675  ...  8899188  SBUX    27.915 -0.005015\n",
              "\n",
              "[5 rows x 9 columns]"
            ]
          },
          "metadata": {
            "tags": []
          },
          "execution_count": 16
        }
      ]
    },
    {
      "cell_type": "code",
      "metadata": {
        "id": "2caEww0GXddl",
        "colab": {
          "base_uri": "https://localhost:8080/",
          "height": 283
        },
        "outputId": "490dffaf-b098-4ac5-8c7f-7d60728c9603"
      },
      "source": [
        "# Now let's try an LSTM to predict returns\n",
        "df['Return'].hist()"
      ],
      "execution_count": 17,
      "outputs": [
        {
          "output_type": "execute_result",
          "data": {
            "text/plain": [
              "<matplotlib.axes._subplots.AxesSubplot at 0x7f1f78e00150>"
            ]
          },
          "metadata": {
            "tags": []
          },
          "execution_count": 17
        },
        {
          "output_type": "display_data",
          "data": {
            "image/png": "[encoded data removed]",
            "text/plain": [
              "<Figure size 432x288 with 1 Axes>"
            ]
          },
          "metadata": {
            "tags": [],
            "needs_background": "light"
          }
        }
      ]
    },
    {
      "cell_type": "code",
      "metadata": {
        "id": "t0xUTZvFXoHc"
      },
      "source": [
        "series = df['Return'].values[1:].reshape(-1, 1)\n",
        "\n",
        "# Normalize the data\n",
        "# Note: I didn't think about where the true boundary is, this is just approx.\n",
        "scaler = StandardScaler()\n",
        "scaler.fit(series[:len(series) // 2])\n",
        "series = scaler.transform(series).flatten()"
      ],
      "execution_count": 18,
      "outputs": []
    },
    {
      "cell_type": "code",
      "metadata": {
        "id": "PLNwOWOWX1m9",
        "colab": {
          "base_uri": "https://localhost:8080/"
        },
        "outputId": "2313cafc-b168-40cb-a040-223008e305db"
      },
      "source": [
        "### build the dataset\n",
        "# let's see if we can use T past values to predict the next value\n",
        "T = 10\n",
        "D = 1\n",
        "X = []\n",
        "Y = []\n",
        "for t in range(len(series) - T):\n",
        "  x = series[t:t+T]\n",
        "  X.append(x)\n",
        "  y = series[t+T]\n",
        "  Y.append(y)\n",
        "\n",
        "X = np.array(X).reshape(-1, T, 1) # Now the data should be N x T x D\n",
        "Y = np.array(Y)\n",
        "N = len(X)\n",
        "print(\"X.shape\", X.shape, \"Y.shape\", Y.shape)"
      ],
      "execution_count": 19,
      "outputs": [
        {
          "output_type": "stream",
          "text": [
            "X.shape (1248, 10, 1) Y.shape (1248,)\n"
          ],
          "name": "stdout"
        }
      ]
    },
    {
      "cell_type": "code",
      "metadata": {
        "id": "F_fhQMaOYAxR",
        "colab": {
          "base_uri": "https://localhost:8080/"
        },
        "outputId": "bdeb7131-f997-4aa7-db79-0bc7003f7821"
      },
      "source": [
        "### try autoregressive RNN model\n",
        "i = Input(shape=(T, 1))\n",
        "x = LSTM(5)(i)\n",
        "x = Dense(1)(x)\n",
        "model = Model(i, x)\n",
        "model.compile(\n",
        "  loss='mse',\n",
        "  optimizer=Adam(lr=0.01),\n",
        ")\n",
        "\n",
        "# train the RNN\n",
        "r = model.fit(\n",
        "  X[:-N//2], Y[:-N//2],\n",
        "  epochs=80,\n",
        "  validation_data=(X[-N//2:], Y[-N//2:]),\n",
        ")"
      ],
      "execution_count": 20,
      "outputs": [
        {
          "output_type": "stream",
          "text": [
            "Epoch 1/80\n",
            "20/20 [==============================] - 2s 30ms/step - loss: 0.9972 - val_loss: 1.1371\n",
            "Epoch 2/80\n",
            "20/20 [==============================] - 0s 9ms/step - loss: 1.0371 - val_loss: 1.1346\n",
            "Epoch 3/80\n",
            "20/20 [==============================] - 0s 8ms/step - loss: 0.9294 - val_loss: 1.1493\n",
            "Epoch 4/80\n",
            "20/20 [==============================] - 0s 9ms/step - loss: 0.9657 - val_loss: 1.1436\n",
            "Epoch 5/80\n",
            "20/20 [==============================] - 0s 8ms/step - loss: 1.2037 - val_loss: 1.1399\n",
            "Epoch 6/80\n",
            "20/20 [==============================] - 0s 9ms/step - loss: 0.9762 - val_loss: 1.1488\n",
            "Epoch 7/80\n",
            "20/20 [==============================] - 0s 8ms/step - loss: 0.9893 - val_loss: 1.1522\n",
            "Epoch 8/80\n",
            "20/20 [==============================] - 0s 8ms/step - loss: 0.9601 - val_loss: 1.1518\n",
            "Epoch 9/80\n",
            "20/20 [==============================] - 0s 8ms/step - loss: 1.0203 - val_loss: 1.1474\n",
            "Epoch 10/80\n",
            "20/20 [==============================] - 0s 8ms/step - loss: 0.9750 - val_loss: 1.1479\n",
            "Epoch 11/80\n",
            "20/20 [==============================] - 0s 8ms/step - loss: 0.8933 - val_loss: 1.1540\n",
            "Epoch 12/80\n",
            "20/20 [==============================] - 0s 10ms/step - loss: 0.9941 - val_loss: 1.1561\n",
            "Epoch 13/80\n",
            "20/20 [==============================] - 0s 9ms/step - loss: 0.9409 - val_loss: 1.1552\n",
            "Epoch 14/80\n",
            "20/20 [==============================] - 0s 8ms/step - loss: 0.9001 - val_loss: 1.1654\n",
            "Epoch 15/80\n",
            "20/20 [==============================] - 0s 8ms/step - loss: 0.9274 - val_loss: 1.1603\n",
            "Epoch 16/80\n",
            "20/20 [==============================] - 0s 8ms/step - loss: 0.9502 - val_loss: 1.1638\n",
            "Epoch 17/80\n",
            "20/20 [==============================] - 0s 8ms/step - loss: 0.9402 - val_loss: 1.1602\n",
            "Epoch 18/80\n",
            "20/20 [==============================] - 0s 8ms/step - loss: 1.0917 - val_loss: 1.1604\n",
            "Epoch 19/80\n",
            "20/20 [==============================] - 0s 8ms/step - loss: 1.0474 - val_loss: 1.1631\n",
            "Epoch 20/80\n",
            "20/20 [==============================] - 0s 8ms/step - loss: 1.1018 - val_loss: 1.1765\n",
            "Epoch 21/80\n",
            "20/20 [==============================] - 0s 8ms/step - loss: 1.0728 - val_loss: 1.1709\n",
            "Epoch 22/80\n",
            "20/20 [==============================] - 0s 8ms/step - loss: 1.0436 - val_loss: 1.1774\n",
            "Epoch 23/80\n",
            "20/20 [==============================] - 0s 8ms/step - loss: 0.9488 - val_loss: 1.1692\n",
            "Epoch 24/80\n",
            "20/20 [==============================] - 0s 8ms/step - loss: 1.0780 - val_loss: 1.1790\n",
            "Epoch 25/80\n",
            "20/20 [==============================] - 0s 8ms/step - loss: 0.9602 - val_loss: 1.1861\n",
            "Epoch 26/80\n",
            "20/20 [==============================] - 0s 9ms/step - loss: 0.8278 - val_loss: 1.1824\n",
            "Epoch 27/80\n",
            "20/20 [==============================] - 0s 9ms/step - loss: 0.9113 - val_loss: 1.1789\n",
            "Epoch 28/80\n",
            "20/20 [==============================] - 0s 9ms/step - loss: 1.0333 - val_loss: 1.1844\n",
            "Epoch 29/80\n",
            "20/20 [==============================] - 0s 8ms/step - loss: 0.8872 - val_loss: 1.1894\n",
            "Epoch 30/80\n",
            "20/20 [==============================] - 0s 8ms/step - loss: 0.8789 - val_loss: 1.1930\n",
            "Epoch 31/80\n",
            "20/20 [==============================] - 0s 10ms/step - loss: 1.0041 - val_loss: 1.1996\n",
            "Epoch 32/80\n",
            "20/20 [==============================] - 0s 11ms/step - loss: 1.0378 - val_loss: 1.1976\n",
            "Epoch 33/80\n",
            "20/20 [==============================] - 0s 9ms/step - loss: 1.0666 - val_loss: 1.2040\n",
            "Epoch 34/80\n",
            "20/20 [==============================] - 0s 8ms/step - loss: 1.0361 - val_loss: 1.2085\n",
            "Epoch 35/80\n",
            "20/20 [==============================] - 0s 8ms/step - loss: 0.9868 - val_loss: 1.2053\n",
            "Epoch 36/80\n",
            "20/20 [==============================] - 0s 8ms/step - loss: 0.9287 - val_loss: 1.2255\n",
            "Epoch 37/80\n",
            "20/20 [==============================] - 0s 10ms/step - loss: 0.8971 - val_loss: 1.2241\n",
            "Epoch 38/80\n",
            "20/20 [==============================] - 0s 8ms/step - loss: 0.7997 - val_loss: 1.2538\n",
            "Epoch 39/80\n",
            "20/20 [==============================] - 0s 9ms/step - loss: 0.8569 - val_loss: 1.2306\n",
            "Epoch 40/80\n",
            "20/20 [==============================] - 0s 8ms/step - loss: 0.8085 - val_loss: 1.2525\n",
            "Epoch 41/80\n",
            "20/20 [==============================] - 0s 8ms/step - loss: 0.9115 - val_loss: 1.2287\n",
            "Epoch 42/80\n",
            "20/20 [==============================] - 0s 8ms/step - loss: 0.8763 - val_loss: 1.2624\n",
            "Epoch 43/80\n",
            "20/20 [==============================] - 0s 8ms/step - loss: 0.8426 - val_loss: 1.2376\n",
            "Epoch 44/80\n",
            "20/20 [==============================] - 0s 8ms/step - loss: 0.8689 - val_loss: 1.2773\n",
            "Epoch 45/80\n",
            "20/20 [==============================] - 0s 8ms/step - loss: 0.8262 - val_loss: 1.2662\n",
            "Epoch 46/80\n",
            "20/20 [==============================] - 0s 10ms/step - loss: 1.1153 - val_loss: 1.2644\n",
            "Epoch 47/80\n",
            "20/20 [==============================] - 0s 9ms/step - loss: 1.0231 - val_loss: 1.2597\n",
            "Epoch 48/80\n",
            "20/20 [==============================] - 0s 8ms/step - loss: 0.9558 - val_loss: 1.2751\n",
            "Epoch 49/80\n",
            "20/20 [==============================] - 0s 9ms/step - loss: 0.8820 - val_loss: 1.2562\n",
            "Epoch 50/80\n",
            "20/20 [==============================] - 0s 8ms/step - loss: 0.8871 - val_loss: 1.3018\n",
            "Epoch 51/80\n",
            "20/20 [==============================] - 0s 8ms/step - loss: 0.9218 - val_loss: 1.2787\n",
            "Epoch 52/80\n",
            "20/20 [==============================] - 0s 8ms/step - loss: 0.9748 - val_loss: 1.2749\n",
            "Epoch 53/80\n",
            "20/20 [==============================] - 0s 8ms/step - loss: 0.7989 - val_loss: 1.2984\n",
            "Epoch 54/80\n",
            "20/20 [==============================] - 0s 8ms/step - loss: 0.8828 - val_loss: 1.2857\n",
            "Epoch 55/80\n",
            "20/20 [==============================] - 0s 9ms/step - loss: 0.8210 - val_loss: 1.3061\n",
            "Epoch 56/80\n",
            "20/20 [==============================] - 0s 8ms/step - loss: 0.9414 - val_loss: 1.2720\n",
            "Epoch 57/80\n",
            "20/20 [==============================] - 0s 8ms/step - loss: 0.9571 - val_loss: 1.3206\n",
            "Epoch 58/80\n",
            "20/20 [==============================] - 0s 8ms/step - loss: 0.8716 - val_loss: 1.3050\n",
            "Epoch 59/80\n",
            "20/20 [==============================] - 0s 8ms/step - loss: 0.9318 - val_loss: 1.3279\n",
            "Epoch 60/80\n",
            "20/20 [==============================] - 0s 8ms/step - loss: 0.9086 - val_loss: 1.3181\n",
            "Epoch 61/80\n",
            "20/20 [==============================] - 0s 9ms/step - loss: 1.0047 - val_loss: 1.3330\n",
            "Epoch 62/80\n",
            "20/20 [==============================] - 0s 8ms/step - loss: 0.8443 - val_loss: 1.3433\n",
            "Epoch 63/80\n",
            "20/20 [==============================] - 0s 9ms/step - loss: 0.8372 - val_loss: 1.3452\n",
            "Epoch 64/80\n",
            "20/20 [==============================] - 0s 8ms/step - loss: 0.8530 - val_loss: 1.3465\n",
            "Epoch 65/80\n",
            "20/20 [==============================] - 0s 8ms/step - loss: 0.8601 - val_loss: 1.3431\n",
            "Epoch 66/80\n",
            "20/20 [==============================] - 0s 8ms/step - loss: 0.8232 - val_loss: 1.3618\n",
            "Epoch 67/80\n",
            "20/20 [==============================] - 0s 9ms/step - loss: 0.8536 - val_loss: 1.3589\n",
            "Epoch 68/80\n",
            "20/20 [==============================] - 0s 8ms/step - loss: 0.8281 - val_loss: 1.3922\n",
            "Epoch 69/80\n",
            "20/20 [==============================] - 0s 9ms/step - loss: 0.8228 - val_loss: 1.3752\n",
            "Epoch 70/80\n",
            "20/20 [==============================] - 0s 9ms/step - loss: 0.8292 - val_loss: 1.3841\n",
            "Epoch 71/80\n",
            "20/20 [==============================] - 0s 8ms/step - loss: 0.8321 - val_loss: 1.3706\n",
            "Epoch 72/80\n",
            "20/20 [==============================] - 0s 8ms/step - loss: 0.8200 - val_loss: 1.4003\n",
            "Epoch 73/80\n",
            "20/20 [==============================] - 0s 8ms/step - loss: 0.7943 - val_loss: 1.3904\n",
            "Epoch 74/80\n",
            "20/20 [==============================] - 0s 8ms/step - loss: 0.7558 - val_loss: 1.4060\n",
            "Epoch 75/80\n",
            "20/20 [==============================] - 0s 10ms/step - loss: 0.8391 - val_loss: 1.4148\n",
            "Epoch 76/80\n",
            "20/20 [==============================] - 0s 9ms/step - loss: 0.7850 - val_loss: 1.4015\n",
            "Epoch 77/80\n",
            "20/20 [==============================] - 0s 9ms/step - loss: 0.8738 - val_loss: 1.4256\n",
            "Epoch 78/80\n",
            "20/20 [==============================] - 0s 8ms/step - loss: 0.8880 - val_loss: 1.4137\n",
            "Epoch 79/80\n",
            "20/20 [==============================] - 0s 8ms/step - loss: 0.8634 - val_loss: 1.4283\n",
            "Epoch 80/80\n",
            "20/20 [==============================] - 0s 8ms/step - loss: 0.9184 - val_loss: 1.4332\n"
          ],
          "name": "stdout"
        }
      ]
    },
    {
      "cell_type": "code",
      "metadata": {
        "id": "-RulDED_YFAQ",
        "colab": {
          "base_uri": "https://localhost:8080/",
          "height": 283
        },
        "outputId": "cfba7ca5-e6b0-4740-e798-96a1aae0b028"
      },
      "source": [
        "# Plot loss per iteration\n",
        "import matplotlib.pyplot as plt\n",
        "plt.plot(r.history['loss'], label='loss')\n",
        "plt.plot(r.history['val_loss'], label='val_loss')\n",
        "plt.legend()"
      ],
      "execution_count": 21,
      "outputs": [
        {
          "output_type": "execute_result",
          "data": {
            "text/plain": [
              "<matplotlib.legend.Legend at 0x7f1f78ddee10>"
            ]
          },
          "metadata": {
            "tags": []
          },
          "execution_count": 21
        },
        {
          "output_type": "display_data",
          "data": {
            "image/png": "[encoded data removed]",
            "text/plain": [
              "<Figure size 432x288 with 1 Axes>"
            ]
          },
          "metadata": {
            "tags": [],
            "needs_background": "light"
          }
        }
      ]
    },
    {
      "cell_type": "code",
      "metadata": {
        "id": "euWSVgj2YFXA",
        "colab": {
          "base_uri": "https://localhost:8080/",
          "height": 283
        },
        "outputId": "feb08817-0791-48c9-d3eb-e069c68adc21"
      },
      "source": [
        "# One-step forecast using true targets\n",
        "outputs = model.predict(X)\n",
        "print(outputs.shape)\n",
        "predictions = outputs[:,0]\n",
        "\n",
        "plt.plot(Y, label='targets')\n",
        "plt.plot(predictions, label='predictions')\n",
        "plt.legend()\n",
        "plt.show()"
      ],
      "execution_count": 22,
      "outputs": [
        {
          "output_type": "stream",
          "text": [
            "(1248, 1)\n"
          ],
          "name": "stdout"
        },
        {
          "output_type": "display_data",
          "data": {
            "image/png": "[encoded data removed]",
            "text/plain": [
              "<Figure size 432x288 with 1 Axes>"
            ]
          },
          "metadata": {
            "tags": [],
            "needs_background": "light"
          }
        }
      ]
    },
    {
      "cell_type": "code",
      "metadata": {
        "id": "Vqu6ScQrYIWV",
        "colab": {
          "base_uri": "https://localhost:8080/",
          "height": 283
        },
        "outputId": "c8286f0b-9a3e-408e-9851-1a0e65832a25"
      },
      "source": [
        "# Multi-step forecast\n",
        "validation_target = Y[-N//2:]\n",
        "validation_predictions = []\n",
        "\n",
        "# first validation input\n",
        "last_x = X[-N//2] # 1-D array of length T\n",
        "\n",
        "while len(validation_predictions) < len(validation_target):\n",
        "  p = model.predict(last_x.reshape(1, T, 1))[0,0] # 1x1 array -> scalar\n",
        "  \n",
        "  # update the predictions list\n",
        "  validation_predictions.append(p)\n",
        "  \n",
        "  # make the new input\n",
        "  last_x = np.roll(last_x, -1)\n",
        "  last_x[-1] = p\n",
        "\n",
        "plt.plot(validation_target, label='forecast target')\n",
        "plt.plot(validation_predictions, label='forecast prediction')\n",
        "plt.legend()"
      ],
      "execution_count": 23,
      "outputs": [
        {
          "output_type": "execute_result",
          "data": {
            "text/plain": [
              "<matplotlib.legend.Legend at 0x7f1f7590fc10>"
            ]
          },
          "metadata": {
            "tags": []
          },
          "execution_count": 23
        },
        {
          "output_type": "display_data",
          "data": {
            "image/png": "[encoded data removed]",
            "text/plain": [
              "<Figure size 432x288 with 1 Axes>"
            ]
          },
          "metadata": {
            "tags": [],
            "needs_background": "light"
          }
        }
      ]
    },
    {
      "cell_type": "code",
      "metadata": {
        "id": "VwgGvQsDOZ5T"
      },
      "source": [
        "# Now turn the full data into numpy arrays\n",
        "\n",
        "# Not yet in the final \"X\" format!\n",
        "input_data = df[['open', 'high', 'low', 'close', 'volume']].values\n",
        "targets = df['Return'].values"
      ],
      "execution_count": 24,
      "outputs": []
    },
    {
      "cell_type": "code",
      "metadata": {
        "id": "-sdYhd7mObwI"
      },
      "source": [
        "# Now make the actual data which will go into the neural network\n",
        "T = 10 # the number of time steps to look at to make a prediction for the next day\n",
        "D = input_data.shape[1]\n",
        "N = len(input_data) - T # (e.g. if T=10 and you have 11 data points then you'd only have 1 sample)"
      ],
      "execution_count": 26,
      "outputs": []
    },
    {
      "cell_type": "code",
      "metadata": {
        "id": "79CkMlgHOejZ"
      },
      "source": [
        "# normalize the inputs\n",
        "Ntrain = len(input_data) * 2 // 3\n",
        "scaler = StandardScaler()\n",
        "scaler.fit(input_data[:Ntrain + T - 1])\n",
        "input_data = scaler.transform(input_data)"
      ],
      "execution_count": 27,
      "outputs": []
    },
    {
      "cell_type": "code",
      "metadata": {
        "id": "bfQcj1gpOme2"
      },
      "source": [
        "# Setup X_train and Y_train\n",
        "X_train = np.zeros((Ntrain, T, D))\n",
        "Y_train = np.zeros(Ntrain)\n",
        "\n",
        "for t in range(Ntrain):\n",
        "  X_train[t, :, :] = input_data[t:t+T]\n",
        "  Y_train[t] = (targets[t+T] > 0)"
      ],
      "execution_count": 29,
      "outputs": []
    },
    {
      "cell_type": "code",
      "metadata": {
        "id": "HhUo6COMOsZi"
      },
      "source": [
        "# Setup X_test and Y_test\n",
        "X_test = np.zeros((N - Ntrain, T, D))\n",
        "Y_test = np.zeros(N - Ntrain)\n",
        "\n",
        "for u in range(N - Ntrain):\n",
        "  # u counts from 0...(N - Ntrain)\n",
        "  # t counts from Ntrain...N\n",
        "  t = u + Ntrain\n",
        "  X_test[u, :, :] = input_data[t:t+T]\n",
        "  Y_test[u] = (targets[t+T] > 0)"
      ],
      "execution_count": 30,
      "outputs": []
    },
    {
      "cell_type": "code",
      "metadata": {
        "id": "7tBDk_1FRUFt"
      },
      "source": [
        "# make the RNN\n",
        "i = Input(shape=(T, D))\n",
        "x = LSTM(50)(i)\n",
        "x = Dense(1, activation='sigmoid')(x)\n",
        "model = Model(i, x)\n",
        "model.compile(\n",
        "  loss='binary_crossentropy',\n",
        "  optimizer=Adam(lr=0.001),\n",
        "  metrics=['accuracy'],\n",
        ")"
      ],
      "execution_count": 31,
      "outputs": []
    },
    {
      "cell_type": "code",
      "metadata": {
        "id": "IQqNykvGRXGz",
        "colab": {
          "base_uri": "https://localhost:8080/"
        },
        "outputId": "110409d4-5cb0-4853-8122-2755e1d2222e"
      },
      "source": [
        "# train the RNN\n",
        "r = model.fit(\n",
        "  X_train, Y_train,\n",
        "  batch_size=32,\n",
        "  epochs=300,\n",
        "  validation_data=(X_test, Y_test),\n",
        ")"
      ],
      "execution_count": 32,
      "outputs": [
        {
          "output_type": "stream",
          "text": [
            "Epoch 1/300\n",
            "27/27 [==============================] - 2s 26ms/step - loss: 0.6957 - accuracy: 0.5120 - val_loss: 0.6929 - val_accuracy: 0.5000\n",
            "Epoch 2/300\n",
            "27/27 [==============================] - 0s 9ms/step - loss: 0.6965 - accuracy: 0.5152 - val_loss: 0.7006 - val_accuracy: 0.4854\n",
            "Epoch 3/300\n",
            "27/27 [==============================] - 0s 9ms/step - loss: 0.6946 - accuracy: 0.5293 - val_loss: 0.6990 - val_accuracy: 0.4854\n",
            "Epoch 4/300\n",
            "27/27 [==============================] - 0s 9ms/step - loss: 0.6897 - accuracy: 0.5410 - val_loss: 0.6935 - val_accuracy: 0.4902\n",
            "Epoch 5/300\n",
            "27/27 [==============================] - 0s 9ms/step - loss: 0.6922 - accuracy: 0.5282 - val_loss: 0.6929 - val_accuracy: 0.4878\n",
            "Epoch 6/300\n",
            "27/27 [==============================] - 0s 9ms/step - loss: 0.6884 - accuracy: 0.5432 - val_loss: 0.6955 - val_accuracy: 0.4927\n",
            "Epoch 7/300\n",
            "27/27 [==============================] - 0s 8ms/step - loss: 0.6942 - accuracy: 0.5170 - val_loss: 0.6910 - val_accuracy: 0.5366\n",
            "Epoch 8/300\n",
            "27/27 [==============================] - 0s 9ms/step - loss: 0.6896 - accuracy: 0.5347 - val_loss: 0.6977 - val_accuracy: 0.4902\n",
            "Epoch 9/300\n",
            "27/27 [==============================] - 0s 9ms/step - loss: 0.6868 - accuracy: 0.5431 - val_loss: 0.6956 - val_accuracy: 0.4951\n",
            "Epoch 10/300\n",
            "27/27 [==============================] - 0s 10ms/step - loss: 0.6830 - accuracy: 0.5559 - val_loss: 0.6966 - val_accuracy: 0.4951\n",
            "Epoch 11/300\n",
            "27/27 [==============================] - 0s 18ms/step - loss: 0.6839 - accuracy: 0.5617 - val_loss: 0.6903 - val_accuracy: 0.5293\n",
            "Epoch 12/300\n",
            "27/27 [==============================] - 0s 9ms/step - loss: 0.6859 - accuracy: 0.5433 - val_loss: 0.6936 - val_accuracy: 0.4902\n",
            "Epoch 13/300\n",
            "27/27 [==============================] - 0s 9ms/step - loss: 0.6898 - accuracy: 0.5244 - val_loss: 0.6908 - val_accuracy: 0.5268\n",
            "Epoch 14/300\n",
            "27/27 [==============================] - 0s 9ms/step - loss: 0.6898 - accuracy: 0.5169 - val_loss: 0.6921 - val_accuracy: 0.5146\n",
            "Epoch 15/300\n",
            "27/27 [==============================] - 0s 9ms/step - loss: 0.6832 - accuracy: 0.5971 - val_loss: 0.6935 - val_accuracy: 0.4927\n",
            "Epoch 16/300\n",
            "27/27 [==============================] - 0s 9ms/step - loss: 0.6872 - accuracy: 0.5432 - val_loss: 0.6908 - val_accuracy: 0.5415\n",
            "Epoch 17/300\n",
            "27/27 [==============================] - 0s 9ms/step - loss: 0.6908 - accuracy: 0.5179 - val_loss: 0.6938 - val_accuracy: 0.4878\n",
            "Epoch 18/300\n",
            "27/27 [==============================] - 0s 9ms/step - loss: 0.6827 - accuracy: 0.5579 - val_loss: 0.6927 - val_accuracy: 0.5171\n",
            "Epoch 19/300\n",
            "27/27 [==============================] - 0s 9ms/step - loss: 0.6857 - accuracy: 0.5577 - val_loss: 0.6929 - val_accuracy: 0.5220\n",
            "Epoch 20/300\n",
            "27/27 [==============================] - 0s 8ms/step - loss: 0.6829 - accuracy: 0.5478 - val_loss: 0.6948 - val_accuracy: 0.4927\n",
            "Epoch 21/300\n",
            "27/27 [==============================] - 0s 10ms/step - loss: 0.6864 - accuracy: 0.5526 - val_loss: 0.6955 - val_accuracy: 0.4829\n",
            "Epoch 22/300\n",
            "27/27 [==============================] - 0s 9ms/step - loss: 0.6841 - accuracy: 0.5455 - val_loss: 0.6915 - val_accuracy: 0.5293\n",
            "Epoch 23/300\n",
            "27/27 [==============================] - 0s 9ms/step - loss: 0.6812 - accuracy: 0.5693 - val_loss: 0.6928 - val_accuracy: 0.5098\n",
            "Epoch 24/300\n",
            "27/27 [==============================] - 0s 9ms/step - loss: 0.6855 - accuracy: 0.5701 - val_loss: 0.6948 - val_accuracy: 0.5146\n",
            "Epoch 25/300\n",
            "27/27 [==============================] - 0s 9ms/step - loss: 0.6854 - accuracy: 0.5361 - val_loss: 0.6932 - val_accuracy: 0.5244\n",
            "Epoch 26/300\n",
            "27/27 [==============================] - 0s 9ms/step - loss: 0.6810 - accuracy: 0.5649 - val_loss: 0.6936 - val_accuracy: 0.5195\n",
            "Epoch 27/300\n",
            "27/27 [==============================] - 0s 9ms/step - loss: 0.6872 - accuracy: 0.5627 - val_loss: 0.6915 - val_accuracy: 0.5415\n",
            "Epoch 28/300\n",
            "27/27 [==============================] - 0s 9ms/step - loss: 0.6848 - accuracy: 0.5778 - val_loss: 0.6937 - val_accuracy: 0.5220\n",
            "Epoch 29/300\n",
            "27/27 [==============================] - 0s 9ms/step - loss: 0.6814 - accuracy: 0.5733 - val_loss: 0.6948 - val_accuracy: 0.5171\n",
            "Epoch 30/300\n",
            "27/27 [==============================] - 0s 9ms/step - loss: 0.6826 - accuracy: 0.5567 - val_loss: 0.6955 - val_accuracy: 0.5146\n",
            "Epoch 31/300\n",
            "27/27 [==============================] - 0s 10ms/step - loss: 0.6794 - accuracy: 0.5807 - val_loss: 0.6988 - val_accuracy: 0.5000\n",
            "Epoch 32/300\n",
            "27/27 [==============================] - 0s 9ms/step - loss: 0.6775 - accuracy: 0.5853 - val_loss: 0.6945 - val_accuracy: 0.5122\n",
            "Epoch 33/300\n",
            "27/27 [==============================] - 0s 9ms/step - loss: 0.6841 - accuracy: 0.5500 - val_loss: 0.6926 - val_accuracy: 0.5220\n",
            "Epoch 34/300\n",
            "27/27 [==============================] - 0s 9ms/step - loss: 0.6825 - accuracy: 0.5790 - val_loss: 0.6970 - val_accuracy: 0.5098\n",
            "Epoch 35/300\n",
            "27/27 [==============================] - 0s 9ms/step - loss: 0.6854 - accuracy: 0.5720 - val_loss: 0.6948 - val_accuracy: 0.5244\n",
            "Epoch 36/300\n",
            "27/27 [==============================] - 0s 9ms/step - loss: 0.6793 - accuracy: 0.5543 - val_loss: 0.6959 - val_accuracy: 0.5220\n",
            "Epoch 37/300\n",
            "27/27 [==============================] - 0s 9ms/step - loss: 0.6788 - accuracy: 0.5743 - val_loss: 0.6969 - val_accuracy: 0.5195\n",
            "Epoch 38/300\n",
            "27/27 [==============================] - 0s 9ms/step - loss: 0.6843 - accuracy: 0.5752 - val_loss: 0.6968 - val_accuracy: 0.5268\n",
            "Epoch 39/300\n",
            "27/27 [==============================] - 0s 10ms/step - loss: 0.6759 - accuracy: 0.5706 - val_loss: 0.6979 - val_accuracy: 0.5146\n",
            "Epoch 40/300\n",
            "27/27 [==============================] - 0s 9ms/step - loss: 0.6752 - accuracy: 0.5782 - val_loss: 0.6998 - val_accuracy: 0.5024\n",
            "Epoch 41/300\n",
            "27/27 [==============================] - 0s 8ms/step - loss: 0.6775 - accuracy: 0.5429 - val_loss: 0.6987 - val_accuracy: 0.5098\n",
            "Epoch 42/300\n",
            "27/27 [==============================] - 0s 9ms/step - loss: 0.6788 - accuracy: 0.5952 - val_loss: 0.6978 - val_accuracy: 0.5220\n",
            "Epoch 43/300\n",
            "27/27 [==============================] - 0s 9ms/step - loss: 0.6766 - accuracy: 0.5687 - val_loss: 0.6963 - val_accuracy: 0.5220\n",
            "Epoch 44/300\n",
            "27/27 [==============================] - 0s 9ms/step - loss: 0.6838 - accuracy: 0.5642 - val_loss: 0.6950 - val_accuracy: 0.5244\n",
            "Epoch 45/300\n",
            "27/27 [==============================] - 0s 9ms/step - loss: 0.6754 - accuracy: 0.5695 - val_loss: 0.7015 - val_accuracy: 0.5024\n",
            "Epoch 46/300\n",
            "27/27 [==============================] - 0s 9ms/step - loss: 0.6740 - accuracy: 0.5693 - val_loss: 0.7010 - val_accuracy: 0.5000\n",
            "Epoch 47/300\n",
            "27/27 [==============================] - 0s 9ms/step - loss: 0.6750 - accuracy: 0.5691 - val_loss: 0.6977 - val_accuracy: 0.5341\n",
            "Epoch 48/300\n",
            "27/27 [==============================] - 0s 10ms/step - loss: 0.6766 - accuracy: 0.5820 - val_loss: 0.6980 - val_accuracy: 0.5293\n",
            "Epoch 49/300\n",
            "27/27 [==============================] - 0s 9ms/step - loss: 0.6752 - accuracy: 0.5716 - val_loss: 0.7014 - val_accuracy: 0.5122\n",
            "Epoch 50/300\n",
            "27/27 [==============================] - 0s 9ms/step - loss: 0.6713 - accuracy: 0.5672 - val_loss: 0.6987 - val_accuracy: 0.5268\n",
            "Epoch 51/300\n",
            "27/27 [==============================] - 0s 9ms/step - loss: 0.6645 - accuracy: 0.5791 - val_loss: 0.6982 - val_accuracy: 0.5195\n",
            "Epoch 52/300\n",
            "27/27 [==============================] - 0s 9ms/step - loss: 0.6698 - accuracy: 0.5900 - val_loss: 0.7061 - val_accuracy: 0.4927\n",
            "Epoch 53/300\n",
            "27/27 [==============================] - 0s 9ms/step - loss: 0.6576 - accuracy: 0.5947 - val_loss: 0.7000 - val_accuracy: 0.5049\n",
            "Epoch 54/300\n",
            "27/27 [==============================] - 0s 9ms/step - loss: 0.6643 - accuracy: 0.5999 - val_loss: 0.7074 - val_accuracy: 0.4951\n",
            "Epoch 55/300\n",
            "27/27 [==============================] - 0s 9ms/step - loss: 0.6789 - accuracy: 0.5553 - val_loss: 0.7007 - val_accuracy: 0.5220\n",
            "Epoch 56/300\n",
            "27/27 [==============================] - 0s 9ms/step - loss: 0.6693 - accuracy: 0.5741 - val_loss: 0.7075 - val_accuracy: 0.4951\n",
            "Epoch 57/300\n",
            "27/27 [==============================] - 0s 10ms/step - loss: 0.6787 - accuracy: 0.5554 - val_loss: 0.7011 - val_accuracy: 0.5293\n",
            "Epoch 58/300\n",
            "27/27 [==============================] - 0s 9ms/step - loss: 0.6708 - accuracy: 0.5819 - val_loss: 0.7052 - val_accuracy: 0.5000\n",
            "Epoch 59/300\n",
            "27/27 [==============================] - 0s 9ms/step - loss: 0.6593 - accuracy: 0.6019 - val_loss: 0.7063 - val_accuracy: 0.5049\n",
            "Epoch 60/300\n",
            "27/27 [==============================] - 0s 9ms/step - loss: 0.6600 - accuracy: 0.6014 - val_loss: 0.7059 - val_accuracy: 0.5122\n",
            "Epoch 61/300\n",
            "27/27 [==============================] - 0s 9ms/step - loss: 0.6558 - accuracy: 0.6295 - val_loss: 0.7157 - val_accuracy: 0.4902\n",
            "Epoch 62/300\n",
            "27/27 [==============================] - 0s 10ms/step - loss: 0.6616 - accuracy: 0.6116 - val_loss: 0.7114 - val_accuracy: 0.4854\n",
            "Epoch 63/300\n",
            "27/27 [==============================] - 0s 9ms/step - loss: 0.6473 - accuracy: 0.6233 - val_loss: 0.7124 - val_accuracy: 0.4780\n",
            "Epoch 64/300\n",
            "27/27 [==============================] - 0s 9ms/step - loss: 0.6537 - accuracy: 0.6129 - val_loss: 0.7113 - val_accuracy: 0.4902\n",
            "Epoch 65/300\n",
            "27/27 [==============================] - 0s 9ms/step - loss: 0.6611 - accuracy: 0.5861 - val_loss: 0.7174 - val_accuracy: 0.4854\n",
            "Epoch 66/300\n",
            "27/27 [==============================] - 0s 9ms/step - loss: 0.6487 - accuracy: 0.6255 - val_loss: 0.7271 - val_accuracy: 0.4878\n",
            "Epoch 67/300\n",
            "27/27 [==============================] - 0s 9ms/step - loss: 0.6639 - accuracy: 0.5760 - val_loss: 0.7206 - val_accuracy: 0.4829\n",
            "Epoch 68/300\n",
            "27/27 [==============================] - 0s 9ms/step - loss: 0.6540 - accuracy: 0.5948 - val_loss: 0.7157 - val_accuracy: 0.5000\n",
            "Epoch 69/300\n",
            "27/27 [==============================] - 0s 10ms/step - loss: 0.6363 - accuracy: 0.6517 - val_loss: 0.7186 - val_accuracy: 0.4927\n",
            "Epoch 70/300\n",
            "27/27 [==============================] - 0s 10ms/step - loss: 0.6566 - accuracy: 0.5895 - val_loss: 0.7240 - val_accuracy: 0.4878\n",
            "Epoch 71/300\n",
            "27/27 [==============================] - 0s 10ms/step - loss: 0.6425 - accuracy: 0.6155 - val_loss: 0.7293 - val_accuracy: 0.4805\n",
            "Epoch 72/300\n",
            "27/27 [==============================] - 0s 9ms/step - loss: 0.6586 - accuracy: 0.6094 - val_loss: 0.7129 - val_accuracy: 0.4829\n",
            "Epoch 73/300\n",
            "27/27 [==============================] - 0s 10ms/step - loss: 0.6504 - accuracy: 0.6221 - val_loss: 0.7170 - val_accuracy: 0.4854\n",
            "Epoch 74/300\n",
            "27/27 [==============================] - 0s 9ms/step - loss: 0.6457 - accuracy: 0.6088 - val_loss: 0.7230 - val_accuracy: 0.4878\n",
            "Epoch 75/300\n",
            "27/27 [==============================] - 0s 9ms/step - loss: 0.6529 - accuracy: 0.5915 - val_loss: 0.7261 - val_accuracy: 0.4854\n",
            "Epoch 76/300\n",
            "27/27 [==============================] - 0s 10ms/step - loss: 0.6403 - accuracy: 0.6234 - val_loss: 0.7271 - val_accuracy: 0.4756\n",
            "Epoch 77/300\n",
            "27/27 [==============================] - 0s 10ms/step - loss: 0.6446 - accuracy: 0.6151 - val_loss: 0.7268 - val_accuracy: 0.4732\n",
            "Epoch 78/300\n",
            "27/27 [==============================] - 0s 9ms/step - loss: 0.6386 - accuracy: 0.6348 - val_loss: 0.7289 - val_accuracy: 0.4732\n",
            "Epoch 79/300\n",
            "27/27 [==============================] - 0s 9ms/step - loss: 0.6403 - accuracy: 0.6115 - val_loss: 0.7294 - val_accuracy: 0.4732\n",
            "Epoch 80/300\n",
            "27/27 [==============================] - 0s 10ms/step - loss: 0.6227 - accuracy: 0.6539 - val_loss: 0.7303 - val_accuracy: 0.4780\n",
            "Epoch 81/300\n",
            "27/27 [==============================] - 0s 10ms/step - loss: 0.6420 - accuracy: 0.6042 - val_loss: 0.7308 - val_accuracy: 0.4634\n",
            "Epoch 82/300\n",
            "27/27 [==============================] - 0s 9ms/step - loss: 0.6258 - accuracy: 0.6298 - val_loss: 0.7299 - val_accuracy: 0.4756\n",
            "Epoch 83/300\n",
            "27/27 [==============================] - 0s 9ms/step - loss: 0.6277 - accuracy: 0.6444 - val_loss: 0.7291 - val_accuracy: 0.4902\n",
            "Epoch 84/300\n",
            "27/27 [==============================] - 0s 9ms/step - loss: 0.6266 - accuracy: 0.6218 - val_loss: 0.7267 - val_accuracy: 0.4854\n",
            "Epoch 85/300\n",
            "27/27 [==============================] - 0s 10ms/step - loss: 0.6264 - accuracy: 0.6253 - val_loss: 0.7434 - val_accuracy: 0.4683\n",
            "Epoch 86/300\n",
            "27/27 [==============================] - 0s 9ms/step - loss: 0.6174 - accuracy: 0.6426 - val_loss: 0.7372 - val_accuracy: 0.4780\n",
            "Epoch 87/300\n",
            "27/27 [==============================] - 0s 10ms/step - loss: 0.6210 - accuracy: 0.6575 - val_loss: 0.7387 - val_accuracy: 0.4683\n",
            "Epoch 88/300\n",
            "27/27 [==============================] - 0s 10ms/step - loss: 0.6164 - accuracy: 0.6699 - val_loss: 0.7385 - val_accuracy: 0.4756\n",
            "Epoch 89/300\n",
            "27/27 [==============================] - 0s 9ms/step - loss: 0.6097 - accuracy: 0.6466 - val_loss: 0.7437 - val_accuracy: 0.4756\n",
            "Epoch 90/300\n",
            "27/27 [==============================] - 0s 10ms/step - loss: 0.6199 - accuracy: 0.6556 - val_loss: 0.7551 - val_accuracy: 0.4780\n",
            "Epoch 91/300\n",
            "27/27 [==============================] - 0s 10ms/step - loss: 0.6072 - accuracy: 0.6432 - val_loss: 0.7405 - val_accuracy: 0.4805\n",
            "Epoch 92/300\n",
            "27/27 [==============================] - 0s 9ms/step - loss: 0.6041 - accuracy: 0.6764 - val_loss: 0.7470 - val_accuracy: 0.4780\n",
            "Epoch 93/300\n",
            "27/27 [==============================] - 0s 9ms/step - loss: 0.6096 - accuracy: 0.6426 - val_loss: 0.7510 - val_accuracy: 0.4659\n",
            "Epoch 94/300\n",
            "27/27 [==============================] - 0s 9ms/step - loss: 0.6109 - accuracy: 0.6291 - val_loss: 0.7413 - val_accuracy: 0.4976\n",
            "Epoch 95/300\n",
            "27/27 [==============================] - 0s 10ms/step - loss: 0.6083 - accuracy: 0.6573 - val_loss: 0.7580 - val_accuracy: 0.4854\n",
            "Epoch 96/300\n",
            "27/27 [==============================] - 0s 9ms/step - loss: 0.6030 - accuracy: 0.6652 - val_loss: 0.7517 - val_accuracy: 0.4732\n",
            "Epoch 97/300\n",
            "27/27 [==============================] - 0s 10ms/step - loss: 0.5953 - accuracy: 0.6347 - val_loss: 0.7555 - val_accuracy: 0.4780\n",
            "Epoch 98/300\n",
            "27/27 [==============================] - 0s 9ms/step - loss: 0.6181 - accuracy: 0.6547 - val_loss: 0.7546 - val_accuracy: 0.4780\n",
            "Epoch 99/300\n",
            "27/27 [==============================] - 0s 9ms/step - loss: 0.6032 - accuracy: 0.6611 - val_loss: 0.7556 - val_accuracy: 0.4878\n",
            "Epoch 100/300\n",
            "27/27 [==============================] - 0s 9ms/step - loss: 0.5835 - accuracy: 0.6790 - val_loss: 0.7658 - val_accuracy: 0.4780\n",
            "Epoch 101/300\n",
            "27/27 [==============================] - 0s 9ms/step - loss: 0.6104 - accuracy: 0.6515 - val_loss: 0.7446 - val_accuracy: 0.5000\n",
            "Epoch 102/300\n",
            "27/27 [==============================] - 0s 9ms/step - loss: 0.5951 - accuracy: 0.6669 - val_loss: 0.7688 - val_accuracy: 0.4707\n",
            "Epoch 103/300\n",
            "27/27 [==============================] - 0s 9ms/step - loss: 0.5986 - accuracy: 0.6663 - val_loss: 0.7637 - val_accuracy: 0.4732\n",
            "Epoch 104/300\n",
            "27/27 [==============================] - 0s 9ms/step - loss: 0.5962 - accuracy: 0.6702 - val_loss: 0.7678 - val_accuracy: 0.4805\n",
            "Epoch 105/300\n",
            "27/27 [==============================] - 0s 10ms/step - loss: 0.6015 - accuracy: 0.6355 - val_loss: 0.7794 - val_accuracy: 0.4780\n",
            "Epoch 106/300\n",
            "27/27 [==============================] - 0s 10ms/step - loss: 0.5811 - accuracy: 0.6643 - val_loss: 0.7890 - val_accuracy: 0.4927\n",
            "Epoch 107/300\n",
            "27/27 [==============================] - 0s 9ms/step - loss: 0.5925 - accuracy: 0.6647 - val_loss: 0.7702 - val_accuracy: 0.4951\n",
            "Epoch 108/300\n",
            "27/27 [==============================] - 0s 9ms/step - loss: 0.5714 - accuracy: 0.6815 - val_loss: 0.7765 - val_accuracy: 0.4829\n",
            "Epoch 109/300\n",
            "27/27 [==============================] - 0s 10ms/step - loss: 0.5799 - accuracy: 0.6718 - val_loss: 0.7720 - val_accuracy: 0.4951\n",
            "Epoch 110/300\n",
            "27/27 [==============================] - 0s 10ms/step - loss: 0.5823 - accuracy: 0.6792 - val_loss: 0.7859 - val_accuracy: 0.4854\n",
            "Epoch 111/300\n",
            "27/27 [==============================] - 0s 10ms/step - loss: 0.5777 - accuracy: 0.6699 - val_loss: 0.7842 - val_accuracy: 0.5000\n",
            "Epoch 112/300\n",
            "27/27 [==============================] - 0s 9ms/step - loss: 0.5608 - accuracy: 0.6827 - val_loss: 0.7887 - val_accuracy: 0.4878\n",
            "Epoch 113/300\n",
            "27/27 [==============================] - 0s 9ms/step - loss: 0.5746 - accuracy: 0.6754 - val_loss: 0.7904 - val_accuracy: 0.5049\n",
            "Epoch 114/300\n",
            "27/27 [==============================] - 0s 10ms/step - loss: 0.5666 - accuracy: 0.6915 - val_loss: 0.8005 - val_accuracy: 0.4878\n",
            "Epoch 115/300\n",
            "27/27 [==============================] - 0s 9ms/step - loss: 0.5606 - accuracy: 0.6888 - val_loss: 0.7960 - val_accuracy: 0.5049\n",
            "Epoch 116/300\n",
            "27/27 [==============================] - 0s 9ms/step - loss: 0.5662 - accuracy: 0.6788 - val_loss: 0.8059 - val_accuracy: 0.4707\n",
            "Epoch 117/300\n",
            "27/27 [==============================] - 0s 10ms/step - loss: 0.5628 - accuracy: 0.6740 - val_loss: 0.8039 - val_accuracy: 0.4902\n",
            "Epoch 118/300\n",
            "27/27 [==============================] - 0s 9ms/step - loss: 0.5538 - accuracy: 0.6897 - val_loss: 0.8126 - val_accuracy: 0.4829\n",
            "Epoch 119/300\n",
            "27/27 [==============================] - 0s 9ms/step - loss: 0.5825 - accuracy: 0.6784 - val_loss: 0.8018 - val_accuracy: 0.4951\n",
            "Epoch 120/300\n",
            "27/27 [==============================] - 0s 10ms/step - loss: 0.5668 - accuracy: 0.6961 - val_loss: 0.8024 - val_accuracy: 0.4780\n",
            "Epoch 121/300\n",
            "27/27 [==============================] - 0s 9ms/step - loss: 0.5438 - accuracy: 0.7105 - val_loss: 0.8002 - val_accuracy: 0.5000\n",
            "Epoch 122/300\n",
            "27/27 [==============================] - 0s 9ms/step - loss: 0.5451 - accuracy: 0.7131 - val_loss: 0.8225 - val_accuracy: 0.4927\n",
            "Epoch 123/300\n",
            "27/27 [==============================] - 0s 9ms/step - loss: 0.5549 - accuracy: 0.7168 - val_loss: 0.8090 - val_accuracy: 0.5000\n",
            "Epoch 124/300\n",
            "27/27 [==============================] - 0s 9ms/step - loss: 0.5457 - accuracy: 0.6919 - val_loss: 0.8297 - val_accuracy: 0.4805\n",
            "Epoch 125/300\n",
            "27/27 [==============================] - 0s 9ms/step - loss: 0.5444 - accuracy: 0.7075 - val_loss: 0.8233 - val_accuracy: 0.4878\n",
            "Epoch 126/300\n",
            "27/27 [==============================] - 0s 9ms/step - loss: 0.5283 - accuracy: 0.7280 - val_loss: 0.8218 - val_accuracy: 0.4829\n",
            "Epoch 127/300\n",
            "27/27 [==============================] - 0s 9ms/step - loss: 0.5345 - accuracy: 0.6946 - val_loss: 0.8321 - val_accuracy: 0.4976\n",
            "Epoch 128/300\n",
            "27/27 [==============================] - 0s 10ms/step - loss: 0.5330 - accuracy: 0.7205 - val_loss: 0.8373 - val_accuracy: 0.4707\n",
            "Epoch 129/300\n",
            "27/27 [==============================] - 0s 9ms/step - loss: 0.5412 - accuracy: 0.7119 - val_loss: 0.8353 - val_accuracy: 0.4854\n",
            "Epoch 130/300\n",
            "27/27 [==============================] - 0s 9ms/step - loss: 0.5228 - accuracy: 0.7149 - val_loss: 0.8479 - val_accuracy: 0.4634\n",
            "Epoch 131/300\n",
            "27/27 [==============================] - 0s 9ms/step - loss: 0.5408 - accuracy: 0.7026 - val_loss: 0.8329 - val_accuracy: 0.4902\n",
            "Epoch 132/300\n",
            "27/27 [==============================] - 0s 9ms/step - loss: 0.5287 - accuracy: 0.7059 - val_loss: 0.8477 - val_accuracy: 0.4756\n",
            "Epoch 133/300\n",
            "27/27 [==============================] - 0s 9ms/step - loss: 0.5051 - accuracy: 0.7199 - val_loss: 0.8553 - val_accuracy: 0.4902\n",
            "Epoch 134/300\n",
            "27/27 [==============================] - 0s 9ms/step - loss: 0.5043 - accuracy: 0.7261 - val_loss: 0.8561 - val_accuracy: 0.5000\n",
            "Epoch 135/300\n",
            "27/27 [==============================] - 0s 9ms/step - loss: 0.5143 - accuracy: 0.7259 - val_loss: 0.8531 - val_accuracy: 0.4805\n",
            "Epoch 136/300\n",
            "27/27 [==============================] - 0s 9ms/step - loss: 0.5079 - accuracy: 0.7427 - val_loss: 0.8633 - val_accuracy: 0.4780\n",
            "Epoch 137/300\n",
            "27/27 [==============================] - 0s 9ms/step - loss: 0.5055 - accuracy: 0.7282 - val_loss: 0.8482 - val_accuracy: 0.4927\n",
            "Epoch 138/300\n",
            "27/27 [==============================] - 0s 9ms/step - loss: 0.5077 - accuracy: 0.7419 - val_loss: 0.8629 - val_accuracy: 0.5000\n",
            "Epoch 139/300\n",
            "27/27 [==============================] - 0s 9ms/step - loss: 0.5104 - accuracy: 0.7173 - val_loss: 0.8836 - val_accuracy: 0.4927\n",
            "Epoch 140/300\n",
            "27/27 [==============================] - 0s 10ms/step - loss: 0.5016 - accuracy: 0.7371 - val_loss: 0.8539 - val_accuracy: 0.4927\n",
            "Epoch 141/300\n",
            "27/27 [==============================] - 0s 9ms/step - loss: 0.5044 - accuracy: 0.7189 - val_loss: 0.8867 - val_accuracy: 0.4829\n",
            "Epoch 142/300\n",
            "27/27 [==============================] - 0s 9ms/step - loss: 0.4974 - accuracy: 0.7430 - val_loss: 0.8957 - val_accuracy: 0.4902\n",
            "Epoch 143/300\n",
            "27/27 [==============================] - 0s 9ms/step - loss: 0.5010 - accuracy: 0.7452 - val_loss: 0.8748 - val_accuracy: 0.5000\n",
            "Epoch 144/300\n",
            "27/27 [==============================] - 0s 10ms/step - loss: 0.4927 - accuracy: 0.7282 - val_loss: 0.9099 - val_accuracy: 0.4951\n",
            "Epoch 145/300\n",
            "27/27 [==============================] - 0s 10ms/step - loss: 0.4946 - accuracy: 0.7546 - val_loss: 0.8906 - val_accuracy: 0.4976\n",
            "Epoch 146/300\n",
            "27/27 [==============================] - 0s 10ms/step - loss: 0.5061 - accuracy: 0.7271 - val_loss: 0.9100 - val_accuracy: 0.4951\n",
            "Epoch 147/300\n",
            "27/27 [==============================] - 0s 10ms/step - loss: 0.4798 - accuracy: 0.7619 - val_loss: 0.9114 - val_accuracy: 0.4902\n",
            "Epoch 148/300\n",
            "27/27 [==============================] - 0s 10ms/step - loss: 0.4807 - accuracy: 0.7484 - val_loss: 0.9156 - val_accuracy: 0.4707\n",
            "Epoch 149/300\n",
            "27/27 [==============================] - 0s 10ms/step - loss: 0.5055 - accuracy: 0.7178 - val_loss: 0.9279 - val_accuracy: 0.4756\n",
            "Epoch 150/300\n",
            "27/27 [==============================] - 0s 10ms/step - loss: 0.4922 - accuracy: 0.7396 - val_loss: 0.9195 - val_accuracy: 0.4902\n",
            "Epoch 151/300\n",
            "27/27 [==============================] - 0s 9ms/step - loss: 0.4715 - accuracy: 0.7433 - val_loss: 0.9047 - val_accuracy: 0.4854\n",
            "Epoch 152/300\n",
            "27/27 [==============================] - 0s 10ms/step - loss: 0.4750 - accuracy: 0.7606 - val_loss: 0.9115 - val_accuracy: 0.5024\n",
            "Epoch 153/300\n",
            "27/27 [==============================] - 0s 9ms/step - loss: 0.4691 - accuracy: 0.7669 - val_loss: 0.9443 - val_accuracy: 0.4707\n",
            "Epoch 154/300\n",
            "27/27 [==============================] - 0s 10ms/step - loss: 0.4758 - accuracy: 0.7596 - val_loss: 0.9259 - val_accuracy: 0.5049\n",
            "Epoch 155/300\n",
            "27/27 [==============================] - 0s 10ms/step - loss: 0.4641 - accuracy: 0.7537 - val_loss: 0.9185 - val_accuracy: 0.5024\n",
            "Epoch 156/300\n",
            "27/27 [==============================] - 0s 10ms/step - loss: 0.4732 - accuracy: 0.7768 - val_loss: 0.9291 - val_accuracy: 0.4854\n",
            "Epoch 157/300\n",
            "27/27 [==============================] - 0s 9ms/step - loss: 0.4456 - accuracy: 0.7816 - val_loss: 0.9425 - val_accuracy: 0.4976\n",
            "Epoch 158/300\n",
            "27/27 [==============================] - 0s 10ms/step - loss: 0.4495 - accuracy: 0.7683 - val_loss: 0.9402 - val_accuracy: 0.4976\n",
            "Epoch 159/300\n",
            "27/27 [==============================] - 0s 10ms/step - loss: 0.4451 - accuracy: 0.7609 - val_loss: 0.9634 - val_accuracy: 0.4683\n",
            "Epoch 160/300\n",
            "27/27 [==============================] - 0s 10ms/step - loss: 0.4639 - accuracy: 0.7658 - val_loss: 0.9354 - val_accuracy: 0.5024\n",
            "Epoch 161/300\n",
            "27/27 [==============================] - 0s 9ms/step - loss: 0.4570 - accuracy: 0.7665 - val_loss: 0.9360 - val_accuracy: 0.5146\n",
            "Epoch 162/300\n",
            "27/27 [==============================] - 0s 9ms/step - loss: 0.4463 - accuracy: 0.7637 - val_loss: 0.9448 - val_accuracy: 0.5073\n",
            "Epoch 163/300\n",
            "27/27 [==============================] - 0s 10ms/step - loss: 0.4296 - accuracy: 0.7854 - val_loss: 0.9497 - val_accuracy: 0.5000\n",
            "Epoch 164/300\n",
            "27/27 [==============================] - 0s 10ms/step - loss: 0.4282 - accuracy: 0.7919 - val_loss: 0.9537 - val_accuracy: 0.5000\n",
            "Epoch 165/300\n",
            "27/27 [==============================] - 0s 10ms/step - loss: 0.4492 - accuracy: 0.7822 - val_loss: 0.9427 - val_accuracy: 0.4976\n",
            "Epoch 166/300\n",
            "27/27 [==============================] - 0s 10ms/step - loss: 0.4531 - accuracy: 0.7729 - val_loss: 0.9420 - val_accuracy: 0.5049\n",
            "Epoch 167/300\n",
            "27/27 [==============================] - 0s 10ms/step - loss: 0.4571 - accuracy: 0.7476 - val_loss: 0.9659 - val_accuracy: 0.5000\n",
            "Epoch 168/300\n",
            "27/27 [==============================] - 0s 10ms/step - loss: 0.4221 - accuracy: 0.7854 - val_loss: 0.9713 - val_accuracy: 0.5049\n",
            "Epoch 169/300\n",
            "27/27 [==============================] - 0s 9ms/step - loss: 0.4157 - accuracy: 0.7981 - val_loss: 0.9692 - val_accuracy: 0.5049\n",
            "Epoch 170/300\n",
            "27/27 [==============================] - 0s 9ms/step - loss: 0.4422 - accuracy: 0.7742 - val_loss: 0.9654 - val_accuracy: 0.4902\n",
            "Epoch 171/300\n",
            "27/27 [==============================] - 0s 10ms/step - loss: 0.4064 - accuracy: 0.7961 - val_loss: 0.9802 - val_accuracy: 0.5098\n",
            "Epoch 172/300\n",
            "27/27 [==============================] - 0s 10ms/step - loss: 0.4110 - accuracy: 0.8001 - val_loss: 0.9792 - val_accuracy: 0.5195\n",
            "Epoch 173/300\n",
            "27/27 [==============================] - 0s 10ms/step - loss: 0.4249 - accuracy: 0.8009 - val_loss: 0.9929 - val_accuracy: 0.4976\n",
            "Epoch 174/300\n",
            "27/27 [==============================] - 0s 10ms/step - loss: 0.4288 - accuracy: 0.7797 - val_loss: 1.0122 - val_accuracy: 0.5049\n",
            "Epoch 175/300\n",
            "27/27 [==============================] - 0s 10ms/step - loss: 0.4194 - accuracy: 0.7741 - val_loss: 1.0065 - val_accuracy: 0.4854\n",
            "Epoch 176/300\n",
            "27/27 [==============================] - 0s 9ms/step - loss: 0.4076 - accuracy: 0.7877 - val_loss: 0.9913 - val_accuracy: 0.5220\n",
            "Epoch 177/300\n",
            "27/27 [==============================] - 0s 10ms/step - loss: 0.4052 - accuracy: 0.8084 - val_loss: 1.0116 - val_accuracy: 0.4805\n",
            "Epoch 178/300\n",
            "27/27 [==============================] - 0s 10ms/step - loss: 0.4248 - accuracy: 0.7575 - val_loss: 1.0346 - val_accuracy: 0.5024\n",
            "Epoch 179/300\n",
            "27/27 [==============================] - 0s 10ms/step - loss: 0.4003 - accuracy: 0.7935 - val_loss: 1.0018 - val_accuracy: 0.5122\n",
            "Epoch 180/300\n",
            "27/27 [==============================] - 0s 9ms/step - loss: 0.4033 - accuracy: 0.7954 - val_loss: 1.0225 - val_accuracy: 0.4976\n",
            "Epoch 181/300\n",
            "27/27 [==============================] - 0s 10ms/step - loss: 0.4000 - accuracy: 0.7943 - val_loss: 1.0004 - val_accuracy: 0.5024\n",
            "Epoch 182/300\n",
            "27/27 [==============================] - 0s 10ms/step - loss: 0.4111 - accuracy: 0.7931 - val_loss: 1.0159 - val_accuracy: 0.5098\n",
            "Epoch 183/300\n",
            "27/27 [==============================] - 0s 10ms/step - loss: 0.3660 - accuracy: 0.8378 - val_loss: 1.0417 - val_accuracy: 0.4878\n",
            "Epoch 184/300\n",
            "27/27 [==============================] - 0s 9ms/step - loss: 0.4044 - accuracy: 0.8092 - val_loss: 1.0199 - val_accuracy: 0.5171\n",
            "Epoch 185/300\n",
            "27/27 [==============================] - 0s 10ms/step - loss: 0.3742 - accuracy: 0.8185 - val_loss: 1.0247 - val_accuracy: 0.5146\n",
            "Epoch 186/300\n",
            "27/27 [==============================] - 0s 10ms/step - loss: 0.3955 - accuracy: 0.8033 - val_loss: 1.0682 - val_accuracy: 0.5000\n",
            "Epoch 187/300\n",
            "27/27 [==============================] - 0s 10ms/step - loss: 0.4019 - accuracy: 0.7942 - val_loss: 1.0397 - val_accuracy: 0.5073\n",
            "Epoch 188/300\n",
            "27/27 [==============================] - 0s 10ms/step - loss: 0.3951 - accuracy: 0.8041 - val_loss: 1.0577 - val_accuracy: 0.5049\n",
            "Epoch 189/300\n",
            "27/27 [==============================] - 0s 9ms/step - loss: 0.3768 - accuracy: 0.8181 - val_loss: 1.0590 - val_accuracy: 0.5268\n",
            "Epoch 190/300\n",
            "27/27 [==============================] - 0s 10ms/step - loss: 0.3950 - accuracy: 0.8052 - val_loss: 1.0636 - val_accuracy: 0.5024\n",
            "Epoch 191/300\n",
            "27/27 [==============================] - 0s 9ms/step - loss: 0.3651 - accuracy: 0.8221 - val_loss: 1.0592 - val_accuracy: 0.5220\n",
            "Epoch 192/300\n",
            "27/27 [==============================] - 0s 9ms/step - loss: 0.3903 - accuracy: 0.7938 - val_loss: 1.0925 - val_accuracy: 0.5024\n",
            "Epoch 193/300\n",
            "27/27 [==============================] - 0s 10ms/step - loss: 0.3471 - accuracy: 0.8344 - val_loss: 1.0790 - val_accuracy: 0.5195\n",
            "Epoch 194/300\n",
            "27/27 [==============================] - 0s 9ms/step - loss: 0.3535 - accuracy: 0.8264 - val_loss: 1.0659 - val_accuracy: 0.5146\n",
            "Epoch 195/300\n",
            "27/27 [==============================] - 0s 10ms/step - loss: 0.3859 - accuracy: 0.7847 - val_loss: 1.1088 - val_accuracy: 0.5146\n",
            "Epoch 196/300\n",
            "27/27 [==============================] - 0s 10ms/step - loss: 0.3605 - accuracy: 0.8154 - val_loss: 1.1077 - val_accuracy: 0.5146\n",
            "Epoch 197/300\n",
            "27/27 [==============================] - 0s 10ms/step - loss: 0.3737 - accuracy: 0.8028 - val_loss: 1.0722 - val_accuracy: 0.5244\n",
            "Epoch 198/300\n",
            "27/27 [==============================] - 0s 9ms/step - loss: 0.3639 - accuracy: 0.8285 - val_loss: 1.1198 - val_accuracy: 0.5049\n",
            "Epoch 199/300\n",
            "27/27 [==============================] - 0s 10ms/step - loss: 0.3848 - accuracy: 0.8075 - val_loss: 1.1196 - val_accuracy: 0.5024\n",
            "Epoch 200/300\n",
            "27/27 [==============================] - 0s 10ms/step - loss: 0.3604 - accuracy: 0.8161 - val_loss: 1.0959 - val_accuracy: 0.5244\n",
            "Epoch 201/300\n",
            "27/27 [==============================] - 0s 10ms/step - loss: 0.3640 - accuracy: 0.8067 - val_loss: 1.1297 - val_accuracy: 0.5024\n",
            "Epoch 202/300\n",
            "27/27 [==============================] - 0s 10ms/step - loss: 0.3741 - accuracy: 0.8098 - val_loss: 1.1147 - val_accuracy: 0.5171\n",
            "Epoch 203/300\n",
            "27/27 [==============================] - 0s 9ms/step - loss: 0.3487 - accuracy: 0.8294 - val_loss: 1.0916 - val_accuracy: 0.5390\n",
            "Epoch 204/300\n",
            "27/27 [==============================] - 0s 9ms/step - loss: 0.3294 - accuracy: 0.8466 - val_loss: 1.1267 - val_accuracy: 0.4537\n",
            "Epoch 205/300\n",
            "27/27 [==============================] - 0s 10ms/step - loss: 0.3810 - accuracy: 0.8113 - val_loss: 1.1298 - val_accuracy: 0.5415\n",
            "Epoch 206/300\n",
            "27/27 [==============================] - 0s 9ms/step - loss: 0.3400 - accuracy: 0.8328 - val_loss: 1.1515 - val_accuracy: 0.5317\n",
            "Epoch 207/300\n",
            "27/27 [==============================] - 0s 10ms/step - loss: 0.3404 - accuracy: 0.8221 - val_loss: 1.1361 - val_accuracy: 0.4951\n",
            "Epoch 208/300\n",
            "27/27 [==============================] - 0s 10ms/step - loss: 0.3218 - accuracy: 0.8503 - val_loss: 1.1822 - val_accuracy: 0.5220\n",
            "Epoch 209/300\n",
            "27/27 [==============================] - 0s 10ms/step - loss: 0.3528 - accuracy: 0.8263 - val_loss: 1.1561 - val_accuracy: 0.4854\n",
            "Epoch 210/300\n",
            "27/27 [==============================] - 0s 10ms/step - loss: 0.3461 - accuracy: 0.8175 - val_loss: 1.1639 - val_accuracy: 0.5293\n",
            "Epoch 211/300\n",
            "27/27 [==============================] - 0s 9ms/step - loss: 0.3370 - accuracy: 0.8369 - val_loss: 1.1653 - val_accuracy: 0.5220\n",
            "Epoch 212/300\n",
            "27/27 [==============================] - 0s 10ms/step - loss: 0.3321 - accuracy: 0.8258 - val_loss: 1.1461 - val_accuracy: 0.5146\n",
            "Epoch 213/300\n",
            "27/27 [==============================] - 0s 10ms/step - loss: 0.3451 - accuracy: 0.8251 - val_loss: 1.2052 - val_accuracy: 0.5268\n",
            "Epoch 214/300\n",
            "27/27 [==============================] - 0s 9ms/step - loss: 0.3329 - accuracy: 0.8365 - val_loss: 1.2056 - val_accuracy: 0.4976\n",
            "Epoch 215/300\n",
            "27/27 [==============================] - 0s 9ms/step - loss: 0.3417 - accuracy: 0.8155 - val_loss: 1.1366 - val_accuracy: 0.5317\n",
            "Epoch 216/300\n",
            "27/27 [==============================] - 0s 10ms/step - loss: 0.3332 - accuracy: 0.8375 - val_loss: 1.1923 - val_accuracy: 0.5122\n",
            "Epoch 217/300\n",
            "27/27 [==============================] - 0s 9ms/step - loss: 0.3387 - accuracy: 0.8238 - val_loss: 1.1644 - val_accuracy: 0.5000\n",
            "Epoch 218/300\n",
            "27/27 [==============================] - 0s 9ms/step - loss: 0.3134 - accuracy: 0.8499 - val_loss: 1.1996 - val_accuracy: 0.5268\n",
            "Epoch 219/300\n",
            "27/27 [==============================] - 0s 10ms/step - loss: 0.3020 - accuracy: 0.8670 - val_loss: 1.2103 - val_accuracy: 0.5171\n",
            "Epoch 220/300\n",
            "27/27 [==============================] - 0s 10ms/step - loss: 0.3012 - accuracy: 0.8458 - val_loss: 1.2326 - val_accuracy: 0.4683\n",
            "Epoch 221/300\n",
            "27/27 [==============================] - 0s 10ms/step - loss: 0.3238 - accuracy: 0.8316 - val_loss: 1.2041 - val_accuracy: 0.5122\n",
            "Epoch 222/300\n",
            "27/27 [==============================] - 0s 10ms/step - loss: 0.3355 - accuracy: 0.8150 - val_loss: 1.2140 - val_accuracy: 0.5171\n",
            "Epoch 223/300\n",
            "27/27 [==============================] - 0s 9ms/step - loss: 0.3208 - accuracy: 0.8337 - val_loss: 1.2075 - val_accuracy: 0.5268\n",
            "Epoch 224/300\n",
            "27/27 [==============================] - 0s 10ms/step - loss: 0.3018 - accuracy: 0.8575 - val_loss: 1.2174 - val_accuracy: 0.5146\n",
            "Epoch 225/300\n",
            "27/27 [==============================] - 0s 9ms/step - loss: 0.3079 - accuracy: 0.8393 - val_loss: 1.2545 - val_accuracy: 0.5220\n",
            "Epoch 226/300\n",
            "27/27 [==============================] - 0s 9ms/step - loss: 0.3104 - accuracy: 0.8466 - val_loss: 1.1954 - val_accuracy: 0.4927\n",
            "Epoch 227/300\n",
            "27/27 [==============================] - 0s 10ms/step - loss: 0.2966 - accuracy: 0.8652 - val_loss: 1.2022 - val_accuracy: 0.5171\n",
            "Epoch 228/300\n",
            "27/27 [==============================] - 0s 10ms/step - loss: 0.3012 - accuracy: 0.8575 - val_loss: 1.2172 - val_accuracy: 0.5049\n",
            "Epoch 229/300\n",
            "27/27 [==============================] - 0s 9ms/step - loss: 0.3245 - accuracy: 0.8470 - val_loss: 1.2401 - val_accuracy: 0.4829\n",
            "Epoch 230/300\n",
            "27/27 [==============================] - 0s 9ms/step - loss: 0.2943 - accuracy: 0.8647 - val_loss: 1.2656 - val_accuracy: 0.5195\n",
            "Epoch 231/300\n",
            "27/27 [==============================] - 0s 10ms/step - loss: 0.3092 - accuracy: 0.8400 - val_loss: 1.2583 - val_accuracy: 0.5073\n",
            "Epoch 232/300\n",
            "27/27 [==============================] - 0s 10ms/step - loss: 0.2962 - accuracy: 0.8582 - val_loss: 1.2393 - val_accuracy: 0.5171\n",
            "Epoch 233/300\n",
            "27/27 [==============================] - 0s 10ms/step - loss: 0.2931 - accuracy: 0.8551 - val_loss: 1.2839 - val_accuracy: 0.5122\n",
            "Epoch 234/300\n",
            "27/27 [==============================] - 0s 9ms/step - loss: 0.3032 - accuracy: 0.8414 - val_loss: 1.2374 - val_accuracy: 0.4976\n",
            "Epoch 235/300\n",
            "27/27 [==============================] - 0s 10ms/step - loss: 0.2730 - accuracy: 0.8727 - val_loss: 1.2922 - val_accuracy: 0.5049\n",
            "Epoch 236/300\n",
            "27/27 [==============================] - 0s 10ms/step - loss: 0.2761 - accuracy: 0.8713 - val_loss: 1.2636 - val_accuracy: 0.5122\n",
            "Epoch 237/300\n",
            "27/27 [==============================] - 0s 9ms/step - loss: 0.2899 - accuracy: 0.8603 - val_loss: 1.2316 - val_accuracy: 0.4878\n",
            "Epoch 238/300\n",
            "27/27 [==============================] - 0s 9ms/step - loss: 0.2672 - accuracy: 0.8799 - val_loss: 1.3135 - val_accuracy: 0.5122\n",
            "Epoch 239/300\n",
            "27/27 [==============================] - 0s 9ms/step - loss: 0.2867 - accuracy: 0.8693 - val_loss: 1.2650 - val_accuracy: 0.5195\n",
            "Epoch 240/300\n",
            "27/27 [==============================] - 0s 10ms/step - loss: 0.2846 - accuracy: 0.8589 - val_loss: 1.2788 - val_accuracy: 0.5024\n",
            "Epoch 241/300\n",
            "27/27 [==============================] - 0s 10ms/step - loss: 0.2951 - accuracy: 0.8512 - val_loss: 1.3283 - val_accuracy: 0.5073\n",
            "Epoch 242/300\n",
            "27/27 [==============================] - 0s 10ms/step - loss: 0.2753 - accuracy: 0.8624 - val_loss: 1.3149 - val_accuracy: 0.5171\n",
            "Epoch 243/300\n",
            "27/27 [==============================] - 0s 10ms/step - loss: 0.2621 - accuracy: 0.8885 - val_loss: 1.3171 - val_accuracy: 0.5049\n",
            "Epoch 244/300\n",
            "27/27 [==============================] - 0s 10ms/step - loss: 0.3087 - accuracy: 0.8707 - val_loss: 1.3060 - val_accuracy: 0.5073\n",
            "Epoch 245/300\n",
            "27/27 [==============================] - 0s 9ms/step - loss: 0.2559 - accuracy: 0.8871 - val_loss: 1.3088 - val_accuracy: 0.5098\n",
            "Epoch 246/300\n",
            "27/27 [==============================] - 0s 9ms/step - loss: 0.2656 - accuracy: 0.8813 - val_loss: 1.3151 - val_accuracy: 0.5268\n",
            "Epoch 247/300\n",
            "27/27 [==============================] - 0s 10ms/step - loss: 0.2619 - accuracy: 0.8682 - val_loss: 1.3326 - val_accuracy: 0.5122\n",
            "Epoch 248/300\n",
            "27/27 [==============================] - 0s 10ms/step - loss: 0.2753 - accuracy: 0.8778 - val_loss: 1.2842 - val_accuracy: 0.5000\n",
            "Epoch 249/300\n",
            "27/27 [==============================] - 0s 9ms/step - loss: 0.2508 - accuracy: 0.9011 - val_loss: 1.3176 - val_accuracy: 0.4902\n",
            "Epoch 250/300\n",
            "27/27 [==============================] - 0s 10ms/step - loss: 0.2605 - accuracy: 0.8999 - val_loss: 1.3609 - val_accuracy: 0.5195\n",
            "Epoch 251/300\n",
            "27/27 [==============================] - 0s 10ms/step - loss: 0.2644 - accuracy: 0.8730 - val_loss: 1.3584 - val_accuracy: 0.4976\n",
            "Epoch 252/300\n",
            "27/27 [==============================] - 0s 10ms/step - loss: 0.2668 - accuracy: 0.8782 - val_loss: 1.3494 - val_accuracy: 0.5146\n",
            "Epoch 253/300\n",
            "27/27 [==============================] - 0s 9ms/step - loss: 0.2501 - accuracy: 0.8892 - val_loss: 1.3561 - val_accuracy: 0.5073\n",
            "Epoch 254/300\n",
            "27/27 [==============================] - 0s 10ms/step - loss: 0.2515 - accuracy: 0.8995 - val_loss: 1.3455 - val_accuracy: 0.4951\n",
            "Epoch 255/300\n",
            "27/27 [==============================] - 0s 10ms/step - loss: 0.2805 - accuracy: 0.8641 - val_loss: 1.4141 - val_accuracy: 0.5024\n",
            "Epoch 256/300\n",
            "27/27 [==============================] - 0s 10ms/step - loss: 0.2693 - accuracy: 0.8723 - val_loss: 1.3801 - val_accuracy: 0.5146\n",
            "Epoch 257/300\n",
            "27/27 [==============================] - 0s 10ms/step - loss: 0.2430 - accuracy: 0.8826 - val_loss: 1.3922 - val_accuracy: 0.5073\n",
            "Epoch 258/300\n",
            "27/27 [==============================] - 0s 10ms/step - loss: 0.2575 - accuracy: 0.8769 - val_loss: 1.3797 - val_accuracy: 0.4976\n",
            "Epoch 259/300\n",
            "27/27 [==============================] - 0s 10ms/step - loss: 0.2616 - accuracy: 0.8874 - val_loss: 1.3574 - val_accuracy: 0.4854\n",
            "Epoch 260/300\n",
            "27/27 [==============================] - 0s 9ms/step - loss: 0.2725 - accuracy: 0.8795 - val_loss: 1.3581 - val_accuracy: 0.5000\n",
            "Epoch 261/300\n",
            "27/27 [==============================] - 0s 10ms/step - loss: 0.2567 - accuracy: 0.8873 - val_loss: 1.4152 - val_accuracy: 0.5000\n",
            "Epoch 262/300\n",
            "27/27 [==============================] - 0s 10ms/step - loss: 0.2369 - accuracy: 0.9005 - val_loss: 1.3487 - val_accuracy: 0.5073\n",
            "Epoch 263/300\n",
            "27/27 [==============================] - 0s 10ms/step - loss: 0.2651 - accuracy: 0.8849 - val_loss: 1.4051 - val_accuracy: 0.5098\n",
            "Epoch 264/300\n",
            "27/27 [==============================] - 0s 10ms/step - loss: 0.2417 - accuracy: 0.8870 - val_loss: 1.4192 - val_accuracy: 0.4927\n",
            "Epoch 265/300\n",
            "27/27 [==============================] - 0s 10ms/step - loss: 0.2364 - accuracy: 0.9032 - val_loss: 1.3836 - val_accuracy: 0.5098\n",
            "Epoch 266/300\n",
            "27/27 [==============================] - 0s 10ms/step - loss: 0.2208 - accuracy: 0.9100 - val_loss: 1.4012 - val_accuracy: 0.5098\n",
            "Epoch 267/300\n",
            "27/27 [==============================] - 0s 10ms/step - loss: 0.2353 - accuracy: 0.9071 - val_loss: 1.3660 - val_accuracy: 0.4951\n",
            "Epoch 268/300\n",
            "27/27 [==============================] - 0s 10ms/step - loss: 0.2410 - accuracy: 0.8937 - val_loss: 1.4318 - val_accuracy: 0.5049\n",
            "Epoch 269/300\n",
            "27/27 [==============================] - 0s 10ms/step - loss: 0.2294 - accuracy: 0.9026 - val_loss: 1.3973 - val_accuracy: 0.5098\n",
            "Epoch 270/300\n",
            "27/27 [==============================] - 0s 10ms/step - loss: 0.2190 - accuracy: 0.9048 - val_loss: 1.4197 - val_accuracy: 0.4976\n",
            "Epoch 271/300\n",
            "27/27 [==============================] - 0s 10ms/step - loss: 0.2147 - accuracy: 0.9110 - val_loss: 1.4635 - val_accuracy: 0.5073\n",
            "Epoch 272/300\n",
            "27/27 [==============================] - 0s 10ms/step - loss: 0.2222 - accuracy: 0.9087 - val_loss: 1.4206 - val_accuracy: 0.5073\n",
            "Epoch 273/300\n",
            "27/27 [==============================] - 0s 10ms/step - loss: 0.2588 - accuracy: 0.8940 - val_loss: 1.4395 - val_accuracy: 0.5049\n",
            "Epoch 274/300\n",
            "27/27 [==============================] - 0s 11ms/step - loss: 0.2253 - accuracy: 0.9154 - val_loss: 1.4669 - val_accuracy: 0.5049\n",
            "Epoch 275/300\n",
            "27/27 [==============================] - 0s 10ms/step - loss: 0.2027 - accuracy: 0.9168 - val_loss: 1.4671 - val_accuracy: 0.5073\n",
            "Epoch 276/300\n",
            "27/27 [==============================] - 0s 11ms/step - loss: 0.2023 - accuracy: 0.9200 - val_loss: 1.4565 - val_accuracy: 0.5073\n",
            "Epoch 277/300\n",
            "27/27 [==============================] - 0s 10ms/step - loss: 0.2305 - accuracy: 0.9020 - val_loss: 1.5118 - val_accuracy: 0.5000\n",
            "Epoch 278/300\n",
            "27/27 [==============================] - 0s 10ms/step - loss: 0.2079 - accuracy: 0.9147 - val_loss: 1.4780 - val_accuracy: 0.4976\n",
            "Epoch 279/300\n",
            "27/27 [==============================] - 0s 9ms/step - loss: 0.2034 - accuracy: 0.9267 - val_loss: 1.5101 - val_accuracy: 0.5073\n",
            "Epoch 280/300\n",
            "27/27 [==============================] - 0s 10ms/step - loss: 0.2082 - accuracy: 0.9142 - val_loss: 1.4356 - val_accuracy: 0.5098\n",
            "Epoch 281/300\n",
            "27/27 [==============================] - 0s 10ms/step - loss: 0.2088 - accuracy: 0.9116 - val_loss: 1.4884 - val_accuracy: 0.5073\n",
            "Epoch 282/300\n",
            "27/27 [==============================] - 0s 10ms/step - loss: 0.1968 - accuracy: 0.9248 - val_loss: 1.5125 - val_accuracy: 0.5049\n",
            "Epoch 283/300\n",
            "27/27 [==============================] - 0s 10ms/step - loss: 0.1814 - accuracy: 0.9315 - val_loss: 1.5159 - val_accuracy: 0.5049\n",
            "Epoch 284/300\n",
            "27/27 [==============================] - 0s 10ms/step - loss: 0.1940 - accuracy: 0.9361 - val_loss: 1.5238 - val_accuracy: 0.5098\n",
            "Epoch 285/300\n",
            "27/27 [==============================] - 0s 10ms/step - loss: 0.1930 - accuracy: 0.9207 - val_loss: 1.5193 - val_accuracy: 0.5098\n",
            "Epoch 286/300\n",
            "27/27 [==============================] - 0s 10ms/step - loss: 0.2222 - accuracy: 0.9111 - val_loss: 1.5767 - val_accuracy: 0.4927\n",
            "Epoch 287/300\n",
            "27/27 [==============================] - 0s 10ms/step - loss: 0.1942 - accuracy: 0.9331 - val_loss: 1.5199 - val_accuracy: 0.5073\n",
            "Epoch 288/300\n",
            "27/27 [==============================] - 0s 10ms/step - loss: 0.2012 - accuracy: 0.9227 - val_loss: 1.5011 - val_accuracy: 0.4927\n",
            "Epoch 289/300\n",
            "27/27 [==============================] - 0s 10ms/step - loss: 0.2139 - accuracy: 0.9161 - val_loss: 1.5868 - val_accuracy: 0.4878\n",
            "Epoch 290/300\n",
            "27/27 [==============================] - 0s 11ms/step - loss: 0.2156 - accuracy: 0.9111 - val_loss: 1.5397 - val_accuracy: 0.5049\n",
            "Epoch 291/300\n",
            "27/27 [==============================] - 0s 9ms/step - loss: 0.1912 - accuracy: 0.9215 - val_loss: 1.5761 - val_accuracy: 0.5024\n",
            "Epoch 292/300\n",
            "27/27 [==============================] - 0s 10ms/step - loss: 0.1972 - accuracy: 0.9172 - val_loss: 1.5478 - val_accuracy: 0.5098\n",
            "Epoch 293/300\n",
            "27/27 [==============================] - 0s 10ms/step - loss: 0.1887 - accuracy: 0.9182 - val_loss: 1.6095 - val_accuracy: 0.4878\n",
            "Epoch 294/300\n",
            "27/27 [==============================] - 0s 10ms/step - loss: 0.1667 - accuracy: 0.9338 - val_loss: 1.5634 - val_accuracy: 0.5195\n",
            "Epoch 295/300\n",
            "27/27 [==============================] - 0s 10ms/step - loss: 0.2045 - accuracy: 0.9164 - val_loss: 1.5553 - val_accuracy: 0.5024\n",
            "Epoch 296/300\n",
            "27/27 [==============================] - 0s 10ms/step - loss: 0.1759 - accuracy: 0.9280 - val_loss: 1.6372 - val_accuracy: 0.4951\n",
            "Epoch 297/300\n",
            "27/27 [==============================] - 0s 11ms/step - loss: 0.1969 - accuracy: 0.9246 - val_loss: 1.5746 - val_accuracy: 0.5024\n",
            "Epoch 298/300\n",
            "27/27 [==============================] - 0s 10ms/step - loss: 0.1755 - accuracy: 0.9366 - val_loss: 1.5672 - val_accuracy: 0.5049\n",
            "Epoch 299/300\n",
            "27/27 [==============================] - 0s 11ms/step - loss: 0.1707 - accuracy: 0.9252 - val_loss: 1.6532 - val_accuracy: 0.4902\n",
            "Epoch 300/300\n",
            "27/27 [==============================] - 0s 9ms/step - loss: 0.1726 - accuracy: 0.9237 - val_loss: 1.5948 - val_accuracy: 0.4951\n"
          ],
          "name": "stdout"
        }
      ]
    },
    {
      "cell_type": "code",
      "metadata": {
        "id": "erq--mqRRgfR",
        "colab": {
          "base_uri": "https://localhost:8080/",
          "height": 265
        },
        "outputId": "9f0f2517-9568-453f-b37a-e836f6ea9e9b"
      },
      "source": [
        "# plot the loss\n",
        "plt.plot(r.history['loss'], label='loss')\n",
        "plt.plot(r.history['val_loss'], label='val_loss')\n",
        "plt.legend()\n",
        "plt.show()"
      ],
      "execution_count": 33,
      "outputs": [
        {
          "output_type": "display_data",
          "data": {
            "image/png": "[encoded data removed]",
            "text/plain": [
              "<Figure size 432x288 with 1 Axes>"
            ]
          },
          "metadata": {
            "tags": [],
            "needs_background": "light"
          }
        }
      ]
    },
    {
      "cell_type": "code",
      "metadata": {
        "id": "D9ZzosDMRjBU",
        "colab": {
          "base_uri": "https://localhost:8080/",
          "height": 265
        },
        "outputId": "7cc72a5f-7774-4d8b-be37-35bd10ad131e"
      },
      "source": [
        "# Plot accuracy per iteration\n",
        "plt.plot(r.history['accuracy'], label='accuracy')\n",
        "plt.plot(r.history['val_accuracy'], label='val_accuracy')\n",
        "plt.legend()\n",
        "plt.show()"
      ],
      "execution_count": 34,
      "outputs": [
        {
          "output_type": "display_data",
          "data": {
            "image/png": "[encoded data removed]",
            "text/plain": [
              "<Figure size 432x288 with 1 Axes>"
            ]
          },
          "metadata": {
            "tags": [],
            "needs_background": "light"
          }
        }
      ]
    }
  ]
}